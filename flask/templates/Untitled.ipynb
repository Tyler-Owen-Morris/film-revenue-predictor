{
 "cells": [
  {
   "cell_type": "code",
   "execution_count": null,
   "metadata": {},
   "outputs": [],
   "source": [
    "1            object_id integer, \n",
    "2            country varchar(20),\n",
    "3            currency varchar(20),\n",
    "4            description varchar(200),\n",
    "5            event_created varchar(20),\n",
    "6            name varchar(100),\n",
    "7            payee_name varchar(100),\n",
    "8            venue_latittude float,\n",
    "9            venue_longitude float,\n",
    "10            venue_name varchar(100)"
   ]
  }
 ],
 "metadata": {
  "kernelspec": {
   "display_name": "Python 3",
   "language": "python",
   "name": "python3"
  },
  "language_info": {
   "codemirror_mode": {
    "name": "ipython",
    "version": 3
   },
   "file_extension": ".py",
   "mimetype": "text/x-python",
   "name": "python",
   "nbconvert_exporter": "python",
   "pygments_lexer": "ipython3",
   "version": "3.7.6"
  }
 },
 "nbformat": 4,
 "nbformat_minor": 4
}
