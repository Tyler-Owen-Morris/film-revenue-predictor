{
 "cells": [
  {
   "cell_type": "code",
   "execution_count": 1,
   "metadata": {},
   "outputs": [],
   "source": [
    "import pandas as pd\n",
    "import numpy as np\n",
    "import matplotlib.pyplot as plt\n",
    "from random import randint\n",
    "import re\n",
    "import tensorflow as tf\n",
    "from tensorflow import keras\n",
    "from tensorflow.keras.models import Sequential\n",
    "from tensorflow.keras.layers import Dense, Dropout, Activation\n",
    "from tensorflow.keras.optimizers import SGD\n",
    "from tensorflow.keras.utils import to_categorical\n",
    "from sklearn import preprocessing\n",
    "%matplotlib inline\n",
    "\n",
    "pd.set_option('display.max_columns', None)\n",
    "pd.set_option('display.max_rows', None)"
   ]
  },
  {
   "cell_type": "markdown",
   "metadata": {},
   "source": [
    "## Importing the raw data\n",
    "A bot has been scraping the IMDB api and IMDB Pro. Let's take a look at what the bot brought us!"
   ]
  },
  {
   "cell_type": "code",
   "execution_count": 2,
   "metadata": {},
   "outputs": [],
   "source": [
    "_2019 = pd.read_csv('../data/IMDB_mine_data_2019.csv')\n",
    "_2018 = pd.read_csv('../data/IMDB_mine_data_2018.csv')\n",
    "_2017 = pd.read_csv('../data/IMDB_mine_data_2017.csv')\n",
    "_2016 = pd.read_csv('../data/IMDB_mine_data_2016.csv')\n",
    "_2015 = pd.read_csv('../data/IMDB_mine_data_2015.csv')"
   ]
  },
  {
   "cell_type": "code",
   "execution_count": 3,
   "metadata": {},
   "outputs": [],
   "source": [
    "#get all the films into one DF\n",
    "films = pd.concat([_2019,_2018,_2017,_2016,_2015])"
   ]
  },
  {
   "cell_type": "code",
   "execution_count": 4,
   "metadata": {},
   "outputs": [
    {
     "data": {
      "text/plain": [
       "(2965, 27)"
      ]
     },
     "execution_count": 4,
     "metadata": {},
     "output_type": "execute_result"
    }
   ],
   "source": [
    "# remove the filler films we were using to start the mining bot\n",
    "films = films[films['title_code'] != np.nan]\n",
    "films = films[films['release_date'] != '1980-05-16']\n",
    "films.shape"
   ]
  },
  {
   "cell_type": "code",
   "execution_count": 5,
   "metadata": {},
   "outputs": [
    {
     "name": "stdout",
     "output_type": "stream",
     "text": [
      "(482, 27) (683, 27) (675, 27) (609, 27) (520, 27)\n"
     ]
    }
   ],
   "source": [
    "#films.release_date\n",
    "print(_2019.shape, _2018.shape, _2017.shape, _2016.shape, _2015.shape)"
   ]
  },
  {
   "cell_type": "code",
   "execution_count": 6,
   "metadata": {},
   "outputs": [
    {
     "data": {
      "text/html": [
       "<div>\n",
       "<style scoped>\n",
       "    .dataframe tbody tr th:only-of-type {\n",
       "        vertical-align: middle;\n",
       "    }\n",
       "\n",
       "    .dataframe tbody tr th {\n",
       "        vertical-align: top;\n",
       "    }\n",
       "\n",
       "    .dataframe thead th {\n",
       "        text-align: right;\n",
       "    }\n",
       "</style>\n",
       "<table border=\"1\" class=\"dataframe\">\n",
       "  <thead>\n",
       "    <tr style=\"text-align: right;\">\n",
       "      <th></th>\n",
       "      <th>Unnamed: 0</th>\n",
       "      <th>title</th>\n",
       "      <th>runtime</th>\n",
       "      <th>release_date</th>\n",
       "      <th>rating</th>\n",
       "      <th>prod_co</th>\n",
       "      <th>metaScore</th>\n",
       "      <th>metaUserScore</th>\n",
       "      <th>imdb_rating</th>\n",
       "      <th>genre</th>\n",
       "      <th>actor1</th>\n",
       "      <th>actor2</th>\n",
       "      <th>actor3</th>\n",
       "      <th>actor4</th>\n",
       "      <th>actor5</th>\n",
       "      <th>actor6</th>\n",
       "      <th>actor7</th>\n",
       "      <th>actor8</th>\n",
       "      <th>actor9</th>\n",
       "      <th>actor10</th>\n",
       "      <th>directors</th>\n",
       "      <th>writers</th>\n",
       "      <th>budget</th>\n",
       "      <th>opening_wknd</th>\n",
       "      <th>gross_dom</th>\n",
       "      <th>gross_int</th>\n",
       "      <th>title_code</th>\n",
       "    </tr>\n",
       "  </thead>\n",
       "  <tbody>\n",
       "    <tr>\n",
       "      <th>1</th>\n",
       "      <td>0</td>\n",
       "      <td>Motherless Brooklyn</td>\n",
       "      <td>0</td>\n",
       "      <td>2019-11-01</td>\n",
       "      <td>R</td>\n",
       "      <td>['Class 5 Films', 'Warner Bros.']</td>\n",
       "      <td>0</td>\n",
       "      <td>0</td>\n",
       "      <td>0</td>\n",
       "      <td>['Crime', 'Drama', 'Mystery']</td>\n",
       "      <td>/name/nm0001570/</td>\n",
       "      <td>/name/nm1813221/</td>\n",
       "      <td>/name/nm0000285/</td>\n",
       "      <td>/name/nm0134072/</td>\n",
       "      <td>/name/nm0000353/</td>\n",
       "      <td>/name/nm0000246/</td>\n",
       "      <td>/name/nm0839486/</td>\n",
       "      <td>/name/nm0427728/</td>\n",
       "      <td>/name/nm1316767/</td>\n",
       "      <td>/name/nm0656929/</td>\n",
       "      <td>['Edward Norton']</td>\n",
       "      <td>['Jonathan Lethem', 'Edward Norton']</td>\n",
       "      <td>26000000.0</td>\n",
       "      <td>3500454.0</td>\n",
       "      <td>9277736.0</td>\n",
       "      <td>18477736.0</td>\n",
       "      <td>tt0385887</td>\n",
       "    </tr>\n",
       "    <tr>\n",
       "      <th>2</th>\n",
       "      <td>0</td>\n",
       "      <td>Alita: Battle Angel</td>\n",
       "      <td>0</td>\n",
       "      <td>2019-02-14</td>\n",
       "      <td>PG-13</td>\n",
       "      <td>['Twentieth Century Fox', 'Twentieth Century F...</td>\n",
       "      <td>0</td>\n",
       "      <td>0</td>\n",
       "      <td>0</td>\n",
       "      <td>['Action', 'Adventure', 'Sci-Fi', 'Thriller']</td>\n",
       "      <td>/name/nm4023073/</td>\n",
       "      <td>/name/nm0910607/</td>\n",
       "      <td>/name/nm0000124/</td>\n",
       "      <td>/name/nm0991810/</td>\n",
       "      <td>/name/nm4534098/</td>\n",
       "      <td>/name/nm0355097/</td>\n",
       "      <td>/name/nm5277107/</td>\n",
       "      <td>/name/nm7449863/</td>\n",
       "      <td>/name/nm7093076/</td>\n",
       "      <td>/name/nm1701107/</td>\n",
       "      <td>['Robert Rodriguez']</td>\n",
       "      <td>['James Cameron', 'Laeta Kalogridis', 'Yukito ...</td>\n",
       "      <td>170000000.0</td>\n",
       "      <td>28525613.0</td>\n",
       "      <td>85710210.0</td>\n",
       "      <td>404852543.0</td>\n",
       "      <td>tt0437086</td>\n",
       "    </tr>\n",
       "    <tr>\n",
       "      <th>3</th>\n",
       "      <td>0</td>\n",
       "      <td>Danger Close</td>\n",
       "      <td>0</td>\n",
       "      <td>2019-11-08</td>\n",
       "      <td>R</td>\n",
       "      <td>['Deeper Water', 'Saboteur Media', 'Saban Films']</td>\n",
       "      <td>0</td>\n",
       "      <td>0</td>\n",
       "      <td>0</td>\n",
       "      <td>['Action', 'Drama', 'War']</td>\n",
       "      <td>/name/nm1379938/</td>\n",
       "      <td>/name/nm9826817/</td>\n",
       "      <td>/name/nm1542397/</td>\n",
       "      <td>/name/nm2527406/</td>\n",
       "      <td>/name/nm5937328/</td>\n",
       "      <td>/name/nm9680111/</td>\n",
       "      <td>/name/nm3478396/</td>\n",
       "      <td>/name/nm7011217/</td>\n",
       "      <td>/name/nm2828232/</td>\n",
       "      <td>/name/nm7202582/</td>\n",
       "      <td>['Kriv Stenders']</td>\n",
       "      <td>['Stuart Beattie', 'James Nicholas', 'Karel Se...</td>\n",
       "      <td>35000000.0</td>\n",
       "      <td>2078370.0</td>\n",
       "      <td>NaN</td>\n",
       "      <td>NaN</td>\n",
       "      <td>tt0441881</td>\n",
       "    </tr>\n",
       "  </tbody>\n",
       "</table>\n",
       "</div>"
      ],
      "text/plain": [
       "   Unnamed: 0                title  runtime release_date rating  \\\n",
       "1           0  Motherless Brooklyn        0   2019-11-01      R   \n",
       "2           0  Alita: Battle Angel        0   2019-02-14  PG-13   \n",
       "3           0         Danger Close        0   2019-11-08      R   \n",
       "\n",
       "                                             prod_co  metaScore  \\\n",
       "1                  ['Class 5 Films', 'Warner Bros.']          0   \n",
       "2  ['Twentieth Century Fox', 'Twentieth Century F...          0   \n",
       "3  ['Deeper Water', 'Saboteur Media', 'Saban Films']          0   \n",
       "\n",
       "   metaUserScore  imdb_rating                                          genre  \\\n",
       "1              0            0                  ['Crime', 'Drama', 'Mystery']   \n",
       "2              0            0  ['Action', 'Adventure', 'Sci-Fi', 'Thriller']   \n",
       "3              0            0                     ['Action', 'Drama', 'War']   \n",
       "\n",
       "             actor1            actor2            actor3            actor4  \\\n",
       "1  /name/nm0001570/  /name/nm1813221/  /name/nm0000285/  /name/nm0134072/   \n",
       "2  /name/nm4023073/  /name/nm0910607/  /name/nm0000124/  /name/nm0991810/   \n",
       "3  /name/nm1379938/  /name/nm9826817/  /name/nm1542397/  /name/nm2527406/   \n",
       "\n",
       "             actor5            actor6            actor7            actor8  \\\n",
       "1  /name/nm0000353/  /name/nm0000246/  /name/nm0839486/  /name/nm0427728/   \n",
       "2  /name/nm4534098/  /name/nm0355097/  /name/nm5277107/  /name/nm7449863/   \n",
       "3  /name/nm5937328/  /name/nm9680111/  /name/nm3478396/  /name/nm7011217/   \n",
       "\n",
       "             actor9           actor10             directors  \\\n",
       "1  /name/nm1316767/  /name/nm0656929/     ['Edward Norton']   \n",
       "2  /name/nm7093076/  /name/nm1701107/  ['Robert Rodriguez']   \n",
       "3  /name/nm2828232/  /name/nm7202582/     ['Kriv Stenders']   \n",
       "\n",
       "                                             writers       budget  \\\n",
       "1               ['Jonathan Lethem', 'Edward Norton']   26000000.0   \n",
       "2  ['James Cameron', 'Laeta Kalogridis', 'Yukito ...  170000000.0   \n",
       "3  ['Stuart Beattie', 'James Nicholas', 'Karel Se...   35000000.0   \n",
       "\n",
       "   opening_wknd   gross_dom    gross_int title_code  \n",
       "1     3500454.0   9277736.0   18477736.0  tt0385887  \n",
       "2    28525613.0  85710210.0  404852543.0  tt0437086  \n",
       "3     2078370.0         NaN          NaN  tt0441881  "
      ]
     },
     "execution_count": 6,
     "metadata": {},
     "output_type": "execute_result"
    }
   ],
   "source": [
    "films.head(3)"
   ]
  },
  {
   "cell_type": "code",
   "execution_count": 7,
   "metadata": {},
   "outputs": [],
   "source": [
    "#Reset the index now that all films are in 1 dataframe\n",
    "films = films.reset_index(drop=True)"
   ]
  },
  {
   "cell_type": "markdown",
   "metadata": {},
   "source": [
    "# Cleaning fields and filling in some of the columns"
   ]
  },
  {
   "cell_type": "code",
   "execution_count": 8,
   "metadata": {},
   "outputs": [
    {
     "data": {
      "text/plain": [
       "['Class 5 Films', 'Warner Bros.']"
      ]
     },
     "execution_count": 8,
     "metadata": {},
     "output_type": "execute_result"
    }
   ],
   "source": [
    "re.findall(r\"'(.*?)'\",films.prod_co[0], re.DOTALL)"
   ]
  },
  {
   "cell_type": "code",
   "execution_count": 9,
   "metadata": {},
   "outputs": [
    {
     "data": {
      "text/plain": [
       "['Paramount Pictures', 'Paramount Pictures']"
      ]
     },
     "execution_count": 9,
     "metadata": {},
     "output_type": "execute_result"
    }
   ],
   "source": [
    "films.prod_co = films.prod_co.map(lambda x : re.findall(r\"'(.*?)'\",x, re.DOTALL))\n",
    "films.prod_co[5]"
   ]
  },
  {
   "cell_type": "code",
   "execution_count": 10,
   "metadata": {},
   "outputs": [
    {
     "data": {
      "text/plain": [
       "'Twentieth Century Fox'"
      ]
     },
     "execution_count": 10,
     "metadata": {},
     "output_type": "execute_result"
    }
   ],
   "source": [
    "films.prod_co[1][1]"
   ]
  },
  {
   "cell_type": "code",
   "execution_count": 11,
   "metadata": {},
   "outputs": [],
   "source": [
    "#break production and distribution out into their own columns\n",
    "films['production'] = films['prod_co'].map(lambda x : x[0] if len(x) >= 1 else np.nan)\n",
    "films['production_2'] = films['prod_co'].map(lambda x : x[1] if len(x) >= 3 else np.nan)\n",
    "films['distribution'] = films['prod_co'].map(lambda x : x[-1] if len(x) >= 2 else np.nan)"
   ]
  },
  {
   "cell_type": "code",
   "execution_count": 12,
   "metadata": {},
   "outputs": [],
   "source": [
    "#convert the release date to a pandas datetime object\n",
    "films['release_date'] = films['release_date'].map(lambda x : pd.to_datetime(x))"
   ]
  },
  {
   "cell_type": "code",
   "execution_count": 13,
   "metadata": {},
   "outputs": [],
   "source": [
    "#Set the first director to their own column\n",
    "films.directors = films.directors.map(lambda x : re.findall(r\"'(.*?)'\",x, re.DOTALL if isinstance(x, str) else np.nan))\n",
    "films['director'] = films['directors'].map(lambda x: x[0] if len(x) >= 1 else np.nan)"
   ]
  },
  {
   "cell_type": "markdown",
   "metadata": {},
   "source": [
    "### We're predicting revenue- so let's look at some basic stats for that data"
   ]
  },
  {
   "cell_type": "code",
   "execution_count": 14,
   "metadata": {},
   "outputs": [
    {
     "name": "stdout",
     "output_type": "stream",
     "text": [
      "The highest grossing film made: $357115007.0\n",
      "The lowest grossing film made: $108.0\n",
      "The variance in opening weekend is: $449801058804183.4\n",
      "The average opening weekend is: $6284064.0\n"
     ]
    }
   ],
   "source": [
    "print(\"The highest grossing film made: $\"+str(films['opening_wknd'].max()))\n",
    "print(\"The lowest grossing film made: $\"+str(films['opening_wknd'].min()))\n",
    "print(\"The variance in opening weekend is: $\"+str(films['opening_wknd'].var()))\n",
    "print(\"The average opening weekend is: $\"+str(round(films['opening_wknd'].mean())))"
   ]
  },
  {
   "cell_type": "code",
   "execution_count": 15,
   "metadata": {},
   "outputs": [
    {
     "data": {
      "text/plain": [
       "[Text(0, 0, '$400M'),\n",
       " Text(0, 0, '$350M'),\n",
       " Text(0, 0, '$300M'),\n",
       " Text(0, 0, '$250M'),\n",
       " Text(0, 0, '$200M'),\n",
       " Text(0, 0, '$150M'),\n",
       " Text(0, 0, '$100M'),\n",
       " Text(0, 0, '$50M'),\n",
       " Text(0, 0, '')]"
      ]
     },
     "execution_count": 15,
     "metadata": {},
     "output_type": "execute_result"
    },
    {
     "data": {
      "image/png": "[encoded data removed]",
      "text/plain": [
       "<Figure size 1080x720 with 1 Axes>"
      ]
     },
     "metadata": {},
     "output_type": "display_data"
    }
   ],
   "source": [
    "# plotting opening weekend box office against the budget\n",
    "\n",
    "import locale\n",
    "locale.setlocale( locale.LC_ALL, 'en_US' )\n",
    "\n",
    "ylab = np.arange(0,401, 50)\n",
    "xlab = np.arange(0,401, 50)\n",
    "\n",
    "fig, ax = plt.subplots(figsize=(15,10))\n",
    "\n",
    "ax.scatter(films.budget, films.opening_wknd)\n",
    "ax.ticklabel_format(style='plain')\n",
    "ax.set_ylabel('Opening Weekend Revenue', fontsize=18)\n",
    "ax.set_xlabel('Film Budget', fontsize=18)\n",
    "ax.set_title('Budget vs Opening Weekend (usd)', fontsize=24)\n",
    "ax.grid(False)\n",
    "\n",
    "fig.patch.set_facecolor('black')\n",
    "plt.style.use('bmh')\n",
    "#plt.rc('axes', labelsize=18)\n",
    "plt.ylim(0, 400000000)\n",
    "plt.xlim(0, 400000000)\n",
    "\n",
    "\n",
    "labels = [item for item in ax.get_xticklabels()]\n",
    "#print(labels)\n",
    "ylabels = [item for item in ax.get_yticklabels()]\n",
    "#print(ylabels)\n",
    "for i in range(len(labels)):\n",
    "    if i==0:\n",
    "        labels[i] = ''\n",
    "        continue\n",
    "    labels[i] = \"${}M\".format(xlab[i])\n",
    "ax.set_xticklabels(labels)\n",
    "ax.set_yticklabels(labels[::-1])\n",
    "\n",
    "\n",
    "\n",
    "#plt.savefig('img/Budget.v.BoxOffice2.png')"
   ]
  },
  {
   "cell_type": "code",
   "execution_count": 72,
   "metadata": {},
   "outputs": [
    {
     "data": {
      "text/plain": [
       "(0, 1010000)"
      ]
     },
     "execution_count": 72,
     "metadata": {},
     "output_type": "execute_result"
    },
    {
     "data": {
      "image/png": "[encoded data removed]",
      "text/plain": [
       "<Figure size 1080x720 with 1 Axes>"
      ]
     },
     "metadata": {},
     "output_type": "display_data"
    }
   ],
   "source": [
    "# Zooming in on films below $100k - we see some flubbing of numbers.\n",
    "# How often could films possibly be making their EXACT budget back opening weekend?\n",
    "\n",
    "fig, ax = plt.subplots(figsize=(15,10))\n",
    "\n",
    "ax.scatter(films.budget, films.opening_wknd)\n",
    "ax.ticklabel_format(style='plain')\n",
    "ax.set_ylabel('Opening Weekend Revenue', fontsize=18)\n",
    "ax.set_xlabel('Film Budget', fontsize=18)\n",
    "ax.set_title('Budget vs Opening Weekend (usd)\\nless than $1M', fontsize=24)\n",
    "ax.grid(False)\n",
    "\n",
    "fig.patch.set_facecolor('black')\n",
    "plt.style.use('bmh')\n",
    "#plt.rc('axes', labelsize=18)\n",
    "plt.ylim(0, 1000000)\n",
    "plt.xlim(0, 1010000)\n",
    "\n",
    "\n",
    "\n",
    "\n",
    "#plt.savefig('img/Budget.v.BoxOffice-OHNO2.png')"
   ]
  },
  {
   "cell_type": "markdown",
   "metadata": {},
   "source": [
    "## Adding Popularity Column\n",
    "IMDB Pro provides a \"Star Meter\" rating to actors. The lower the number, the more popular that actor is. I wrote some more bots to go and fetch this data, and we're going to see if it has an impact on film earnings."
   ]
  },
  {
   "cell_type": "code",
   "execution_count": 73,
   "metadata": {},
   "outputs": [],
   "source": [
    "#going back to pull all the title codes to send director bot to fetch director popularity\n",
    "#films['title_code'].to_csv('data/director_popularity_scrape_list.csv')"
   ]
  },
  {
   "cell_type": "code",
   "execution_count": 74,
   "metadata": {
    "scrolled": true
   },
   "outputs": [
    {
     "data": {
      "text/html": [
       "<div>\n",
       "<style scoped>\n",
       "    .dataframe tbody tr th:only-of-type {\n",
       "        vertical-align: middle;\n",
       "    }\n",
       "\n",
       "    .dataframe tbody tr th {\n",
       "        vertical-align: top;\n",
       "    }\n",
       "\n",
       "    .dataframe thead th {\n",
       "        text-align: right;\n",
       "    }\n",
       "</style>\n",
       "<table border=\"1\" class=\"dataframe\">\n",
       "  <thead>\n",
       "    <tr style=\"text-align: right;\">\n",
       "      <th></th>\n",
       "      <th>index</th>\n",
       "      <th>actor</th>\n",
       "      <th>popularity</th>\n",
       "    </tr>\n",
       "  </thead>\n",
       "  <tbody>\n",
       "    <tr>\n",
       "      <th>0</th>\n",
       "      <td>0</td>\n",
       "      <td>/name/nm0000005/</td>\n",
       "      <td>2932</td>\n",
       "    </tr>\n",
       "  </tbody>\n",
       "</table>\n",
       "</div>"
      ],
      "text/plain": [
       "   index             actor  popularity\n",
       "0      0  /name/nm0000005/        2932"
      ]
     },
     "execution_count": 74,
     "metadata": {},
     "output_type": "execute_result"
    }
   ],
   "source": [
    "act1_pop_keys = pd.read_csv('../data/actor1_popularity_out.csv', index_col=0)\n",
    "act1_pop_keys.reset_index(inplace=True)\n",
    "act1_pop_keys.head(1)"
   ]
  },
  {
   "cell_type": "code",
   "execution_count": 75,
   "metadata": {},
   "outputs": [
    {
     "data": {
      "text/html": [
       "<div>\n",
       "<style scoped>\n",
       "    .dataframe tbody tr th:only-of-type {\n",
       "        vertical-align: middle;\n",
       "    }\n",
       "\n",
       "    .dataframe tbody tr th {\n",
       "        vertical-align: top;\n",
       "    }\n",
       "\n",
       "    .dataframe thead th {\n",
       "        text-align: right;\n",
       "    }\n",
       "</style>\n",
       "<table border=\"1\" class=\"dataframe\">\n",
       "  <thead>\n",
       "    <tr style=\"text-align: right;\">\n",
       "      <th></th>\n",
       "      <th>actor</th>\n",
       "      <th>popularity</th>\n",
       "    </tr>\n",
       "  </thead>\n",
       "  <tbody>\n",
       "    <tr>\n",
       "      <th>0</th>\n",
       "      <td>/name/nm0000002/</td>\n",
       "      <td>2519</td>\n",
       "    </tr>\n",
       "  </tbody>\n",
       "</table>\n",
       "</div>"
      ],
      "text/plain": [
       "              actor  popularity\n",
       "0  /name/nm0000002/        2519"
      ]
     },
     "execution_count": 75,
     "metadata": {},
     "output_type": "execute_result"
    }
   ],
   "source": [
    "dir_pop_keys = pd.read_csv('../data/director_popularity_manipulated.csv', index_col=0)\n",
    "dir_pop_keys.reset_index(inplace=True)\n",
    "dir_pop_keys.head()\n",
    "\n",
    "act_pop_keys = pd.read_csv('../data/actor_popularity.csv', index_col=0)\n",
    "act_pop_keys.reset_index(inplace=True, drop=True)\n",
    "act_pop_keys.head(1)"
   ]
  },
  {
   "cell_type": "code",
   "execution_count": 76,
   "metadata": {},
   "outputs": [],
   "source": [
    "fake_popularity = 10071118 #instantiated as the lowest actor popularity +1\n",
    "def get_actor1_popularity(code, fake_pop):\n",
    "    if code in act1_pop_keys['actor'].unique():\n",
    "        row = act1_pop_keys.loc[act1_pop_keys['actor'] == code].index[0]\n",
    "        return act1_pop_keys.iloc[row]['popularity']\n",
    "    else:\n",
    "        return fake_pop + randint(0,1000)\n",
    "\n",
    "def get_dir_pop(code, fake_pop):\n",
    "    if code in dir_pop_keys['name'].unique():\n",
    "        row = dir_pop_keys.loc[dir_pop_keys['name'] == code].index[0]\n",
    "        return dir_pop_keys.iloc[row]['popularity']\n",
    "    else:\n",
    "        return fake_pop + randint(0,1000)\n",
    "    \n",
    "def get_act_pop(code, fake_pop):\n",
    "    if code in act_pop_keys['actor'].unique():\n",
    "        row = act_pop_keys.loc[act_pop_keys['actor'] == code].index[0]\n",
    "        return act_pop_keys.iloc[row]['popularity']\n",
    "    else:\n",
    "        return fake_pop + randint(0,1000)"
   ]
  },
  {
   "cell_type": "code",
   "execution_count": 77,
   "metadata": {
    "scrolled": true
   },
   "outputs": [
    {
     "data": {
      "text/plain": [
       "13408"
      ]
     },
     "execution_count": 77,
     "metadata": {},
     "output_type": "execute_result"
    }
   ],
   "source": [
    "get_actor1_popularity('/name/nm003565/', fake_popularity)\n",
    "get_dir_pop('David F. Sandberg', fake_popularity)"
   ]
  },
  {
   "cell_type": "code",
   "execution_count": 78,
   "metadata": {
    "scrolled": true
   },
   "outputs": [],
   "source": [
    "films['actor1_popularity'] = films['actor1'].map(lambda x : get_actor1_popularity(x,fake_popularity))\n",
    "films['actor2_popularity'] = films['actor2'].map(lambda x : get_act_pop(x,fake_popularity))\n",
    "films['actor3_popularity'] = films['actor3'].map(lambda x : get_act_pop(x,fake_popularity))\n",
    "films['actor4_popularity'] = films['actor4'].map(lambda x : get_act_pop(x,fake_popularity))\n",
    "films['actor5_popularity'] = films['actor5'].map(lambda x : get_act_pop(x,fake_popularity))\n",
    "films['actor6_popularity'] = films['actor6'].map(lambda x : get_act_pop(x,fake_popularity))\n",
    "films['actor7_popularity'] = films['actor7'].map(lambda x : get_act_pop(x,fake_popularity))\n",
    "films['actor8_popularity'] = films['actor8'].map(lambda x : get_act_pop(x,fake_popularity))\n",
    "films['actor9_popularity'] = films['actor9'].map(lambda x : get_act_pop(x,fake_popularity))\n",
    "films['actor10_popularity'] = films['actor10'].map(lambda x : get_act_pop(x,fake_popularity))\n",
    "\n",
    "\n",
    "films['director_popularity'] = films['director'].map(lambda x : get_dir_pop(x,fake_popularity))"
   ]
  },
  {
   "cell_type": "code",
   "execution_count": 79,
   "metadata": {},
   "outputs": [],
   "source": [
    "# Exporting a csv for the actor popularity scraper to use.\n",
    "#pd.Series(np.unique(list(films.actor1))[:-1]).to_csv('data/actor1_unique_list.csv')"
   ]
  },
  {
   "cell_type": "code",
   "execution_count": 24,
   "metadata": {},
   "outputs": [
    {
     "data": {
      "text/plain": [
       "''"
      ]
     },
     "execution_count": 24,
     "metadata": {},
     "output_type": "execute_result"
    },
    {
     "data": {
      "image/png": "[encoded data removed]",
      "text/plain": [
       "<Figure size 1080x720 with 1 Axes>"
      ]
     },
     "metadata": {},
     "output_type": "display_data"
    }
   ],
   "source": [
    "fig, ax = plt.subplots(figsize=(15,10))\n",
    "\n",
    "\n",
    "ax.scatter(films.actor1_popularity, films.opening_wknd, alpha=0.6, label='lead actor')\n",
    "ax.scatter(films.actor2_popularity, films.opening_wknd, alpha=0.4, c='red', label='2nd billed')\n",
    "ax.scatter(films.actor3_popularity, films.opening_wknd, alpha=0.2, c='green', label='3rd billed')\n",
    "ax.scatter(films.actor4_popularity, films.opening_wknd, alpha=0.55, c='brown', label='4th billed')\n",
    "ax.scatter(films.actor5_popularity, films.opening_wknd, alpha=0.5, c='purple', label='5th billed')\n",
    "ax.scatter(films.actor6_popularity, films.opening_wknd, alpha=0.45, c='green', label='6th billed')\n",
    "ax.scatter(films.actor7_popularity, films.opening_wknd, alpha=0.4, c='yellow', label='7th billed')\n",
    "ax.scatter(films.actor8_popularity, films.opening_wknd, alpha=0.3, c='black', label='8th billed')\n",
    "ax.scatter(films.actor9_popularity, films.opening_wknd, alpha=0.2, c='brown', label='9th billed')\n",
    "ax.scatter(films.actor10_popularity, films.opening_wknd, alpha=0.1, c='coral', label='10th billed')\n",
    "ax.ticklabel_format(style='plain')\n",
    "ax.set_ylabel('Opening Weekend Revenue', fontsize=18)\n",
    "ax.set_xlabel('IMDB Popularity Score', fontsize=18)\n",
    "ax.set_title('Cast Popularity vs Opening Weekend', fontsize=24)\n",
    "ax.grid(False)\n",
    "\n",
    "fig.patch.set_facecolor('black')\n",
    "plt.style.use('bmh')\n",
    "#plt.rc('axes', labelsize=18)\n",
    "plt.ylim(-1000000, 400000000)\n",
    "plt.xlim(-100, 5000)\n",
    "plt.legend()\n",
    "\n",
    "l=plt.legend()\n",
    "for text in l.get_texts():\n",
    "    text.set_color('black')\n",
    "    \n",
    "ylab = ['','$0', '$50M', '$100M', '$150M', '$200M', '$250M', '$300M', '$350M', '$400M']\n",
    "ax.set_yticklabels(ylab)\n",
    "\n",
    "#plt.savefig('img/AllActorPop-v-OpeningWknd3.png')\n",
    "''''''"
   ]
  },
  {
   "cell_type": "markdown",
   "metadata": {},
   "source": [
    "There is a general correlation, but nothing too strong. This will be useful, but we will have to find a way to get more signal than noise from this chaos."
   ]
  },
  {
   "cell_type": "code",
   "execution_count": 25,
   "metadata": {},
   "outputs": [],
   "source": [
    "# look at the revenue by month of release.\n",
    "df = films.copy()\n",
    "df.index = pd.to_datetime(df.release_date)\n",
    "df['month'] = df.index.month\n",
    "df['year'] = df.index.year\n",
    "avg = df.groupby(pd.Grouper(freq='M')).sum()"
   ]
  },
  {
   "cell_type": "code",
   "execution_count": 26,
   "metadata": {},
   "outputs": [
    {
     "name": "stdout",
     "output_type": "stream",
     "text": [
      "7\n"
     ]
    },
    {
     "data": {
      "image/png": "[encoded data removed]",
      "text/plain": [
       "<Figure size 1080x720 with 1 Axes>"
      ]
     },
     "metadata": {},
     "output_type": "display_data"
    }
   ],
   "source": [
    "months = ['January', 'February', 'March', 'April', 'May', 'June', 'July', 'August', 'September', 'October', 'November', 'December']\n",
    "ylab = ['$0', '$2M', '$4M', '$6M', '$8M', '$10M', '$12M']\n",
    "\n",
    "fig, ax1 = plt.subplots(figsize=(15,10))\n",
    "\n",
    "df.groupby('month').agg({'opening_wknd': 'mean'}).plot(figsize=(15,10), xlim=(1,2), grid=False, kind='bar', style='plain', legend=False, ax=ax1)\n",
    "ax1.set_title('Average Opening Box Office of ALL Films by Month', fontsize=26)\n",
    "fig.patch.set_facecolor('black')\n",
    "\n",
    "labels = [item.get_text() for item in ax1.get_xticklabels()]\n",
    "for i in range(len(labels)):\n",
    "    labels[i] = months[i]\n",
    "ax1.set_xticklabels(labels)\n",
    "#ax1.ticklabel_format(style='plain')\n",
    "\n",
    "ylabels = [item.get_text() for item in ax1.get_yticklabels()]\n",
    "for i in range(len(ylabels)):\n",
    "    ylabels[i] = ylab[i]\n",
    "ax1.set_yticklabels(ylabels)\n",
    "print(len(ylabels))\n",
    "\n",
    "#plt.tight_layout()\n",
    "#plt.savefig('img/AvgBoxOffice_byMonth3.png')"
   ]
  },
  {
   "cell_type": "code",
   "execution_count": 27,
   "metadata": {},
   "outputs": [
    {
     "data": {
      "image/png": "[encoded data removed]",
      "text/plain": [
       "<Figure size 1080x720 with 1 Axes>"
      ]
     },
     "metadata": {},
     "output_type": "display_data"
    }
   ],
   "source": [
    "ylab = ['$0', '$5M', '$10M', '$15M', '$20M']\n",
    "xlab = ['G', 'PG', 'PG-13', 'R']\n",
    "\n",
    "fig, ax1 = plt.subplots(figsize=(15,10))\n",
    "\n",
    "rate_df = df[df['rating'] != 'Approved']\n",
    "rate_df = rate_df[rate_df['rating'] != 'Not Rated']\n",
    "rate_df = rate_df[rate_df['rating'] != 'Unrated']\n",
    "rate_df = rate_df[rate_df['rating'] != 'M']\n",
    "rate_df = rate_df[rate_df['rating'] != 'TV-14']\n",
    "rate_df = rate_df[rate_df['rating'] != 'TV-G']\n",
    "rate_df = rate_df[rate_df['rating'] != 'NC-17']\n",
    "rate_df = rate_df[rate_df['rating'] != 'TV-MA']\n",
    "rate_df = rate_df[rate_df['rating'] != 'TV-PG']\n",
    "\n",
    "rate_df.groupby('rating').agg({'opening_wknd': 'mean'}).plot(figsize=(15,10), grid=False, kind='bar', style='plain', legend=False, ax=ax1)\n",
    "ax1.set_title('Average Opening Box Office by MPAA Rating', fontsize=26)\n",
    "plt.style.use('bmh')\n",
    "fig.patch.set_facecolor('black')\n",
    "#ax1.set_ylabel('Average Opening Revenue', fontsize=20)\n",
    "ax1.set_xlabel('MPAA Rating', fontsize=20)\n",
    "\n",
    "# ylabels = [item.get_text() for item in ax1.get_yticklabels()]\n",
    "# for i in range(len(ylabels)):\n",
    "#     ylabels[i] = ylab[i]\n",
    "# ax1.set_yticklabels(ylabels, fontsize=14)\n",
    "\n",
    "labels = [item.get_text() for item in ax1.get_xticklabels()]\n",
    "for i in range(len(labels)):\n",
    "    labels[i] = xlab[i]\n",
    "ax1.set_xticklabels(labels, fontsize=16)\n",
    "\n",
    "for tick in ax1.get_xticklabels():\n",
    "    tick.set_rotation(0)\n",
    "\n",
    "#plt.savefig('img/AvgBoxOffice_byRating3.png')"
   ]
  },
  {
   "cell_type": "markdown",
   "metadata": {},
   "source": [
    "# We will one-hot manually for genre"
   ]
  },
  {
   "cell_type": "code",
   "execution_count": 28,
   "metadata": {},
   "outputs": [],
   "source": [
    "#******ONLY RUN THIS CELL 1X*********\n",
    "# we need to extract the inner quotes from the strings into a list.\n",
    "films['genre'] = films['genre'].map(lambda x : re.findall(r\"'(.*?)'\",x, re.DOTALL))"
   ]
  },
  {
   "cell_type": "code",
   "execution_count": 29,
   "metadata": {},
   "outputs": [],
   "source": [
    "#we're going to do the OHE manually\n",
    "films['action'] = films['genre'].map(lambda x : 1 if 'Action' in x else 0)\n",
    "films['adventure']  = films['genre'].map(lambda x : 1 if 'Adventure' in x else 0)\n",
    "films['animated'] = films['genre'].map(lambda x : 1 if 'Animation' in x else 0)\n",
    "films['biography'] = films['genre'].map(lambda x : 1 if 'Biography' in x else 0)\n",
    "films['drama'] = films['genre'].map(lambda x : 1 if 'Drama' in x else 0)\n",
    "films['documentary'] = films['genre'].map(lambda x : 1 if 'Documentary' in x else 0)\n",
    "films['comedy'] = films['genre'].map(lambda x : 1 if 'Comedy' in x else 0)\n",
    "films['crime'] = films['genre'].map(lambda x : 1 if 'Crime' in x else 0)\n",
    "films['fantasy'] = films['genre'].map(lambda x : 1 if 'Fantasy' in x else 0)\n",
    "films['family'] = films['genre'].map(lambda x : 1 if 'Family' in x else 0)\n",
    "films['musical'] = films['genre'].map(lambda x : 1 if 'Musical' in x else 0)\n",
    "films['horror'] = films['genre'].map(lambda x : 1 if 'Horror' in x else 0)\n",
    "films['war'] = films['genre'].map(lambda x : 1 if 'War' in x else 0)\n",
    "films['mystery'] = films['genre'].map(lambda x : 1 if 'Mystery' in x else 0)\n",
    "films['sci-fi'] = films['genre'].map(lambda x : 1 if 'Sci-Fi' in x else 0)\n",
    "films['thriller'] = films['genre'].map(lambda x : 1 if 'Thriller' in x else 0)\n",
    "films['romance'] = films['genre'].map(lambda x : 1 if 'Romance' in x else 0)"
   ]
  },
  {
   "cell_type": "markdown",
   "metadata": {},
   "source": [
    "### We want to take a look at the impact of genre\n",
    "Group-by wont work because of the amount of overlap, since most films fall into more than one genre. So I did some manual grouping so that we can take a look at influence."
   ]
  },
  {
   "cell_type": "code",
   "execution_count": 30,
   "metadata": {},
   "outputs": [],
   "source": [
    "action = films[films['action'] > 0]\n",
    "adventure = films[films['adventure'] > 0]\n",
    "animated = films[films['animated'] > 0]\n",
    "biography = films[films['biography'] > 0]\n",
    "drama = films[films['drama'] > 0]\n",
    "documentary = films[films['documentary'] > 0]\n",
    "comedy = films[films['comedy'] > 0]\n",
    "crime = films[films['crime'] > 0]\n",
    "fantasy = films[films['fantasy'] > 0]\n",
    "family = films[films['family'] > 0]\n",
    "musical = films[films['musical'] > 0]\n",
    "horror = films[films['horror'] > 0]\n",
    "war = films[films['war'] > 0]\n",
    "mystery = films[films['mystery'] > 0]\n",
    "sci_fi = films[films['sci-fi'] > 0]\n",
    "thriller = films[films['thriller'] > 0]\n",
    "romance = films[films['romance'] > 0]"
   ]
  },
  {
   "cell_type": "code",
   "execution_count": 31,
   "metadata": {},
   "outputs": [],
   "source": [
    "act_avg = action['opening_wknd'].mean()\n",
    "adv_avg = adventure['opening_wknd'].mean()\n",
    "anim_avg = animated['opening_wknd'].mean()\n",
    "com_avg = comedy['opening_wknd'].mean()\n",
    "crm_avg = crime['opening_wknd'].mean()\n",
    "bio_avg = biography['opening_wknd'].mean()\n",
    "dra_avg = drama['opening_wknd'].mean()\n",
    "doc_avg = documentary['opening_wknd'].mean()\n",
    "fan_avg = fantasy['opening_wknd'].mean()\n",
    "fam_avg = family['opening_wknd'].mean()\n",
    "mus_avg = musical['opening_wknd'].mean()\n",
    "hor_avg = horror['opening_wknd'].mean()\n",
    "war_avg = war['opening_wknd'].mean()\n",
    "mys_avg = mystery['opening_wknd'].mean()\n",
    "sci_avg = sci_fi['opening_wknd'].mean()\n",
    "thr_avg = thriller['opening_wknd'].mean()\n",
    "rom_avg = romance['opening_wknd'].mean()"
   ]
  },
  {
   "cell_type": "code",
   "execution_count": 32,
   "metadata": {
    "scrolled": false
   },
   "outputs": [
    {
     "data": {
      "text/plain": [
       "''"
      ]
     },
     "execution_count": 32,
     "metadata": {},
     "output_type": "execute_result"
    },
    {
     "data": {
      "image/png": "[encoded data removed]",
      "text/plain": [
       "<Figure size 1080x720 with 1 Axes>"
      ]
     },
     "metadata": {},
     "output_type": "display_data"
    }
   ],
   "source": [
    "labs =['Action', 'Adventure', 'Animation', 'Biography', 'Comedy', 'Crime', 'Drama', 'Documentary', 'Fantasy', \n",
    "       'Family', 'Horror', 'Musical', 'Mystery', 'Romance', 'Sci-Fi', 'Thriller', 'War']\n",
    "vals = [act_avg, adv_avg, anim_avg, bio_avg, com_avg, crm_avg, dra_avg, doc_avg, fan_avg, fam_avg, hor_avg, mus_avg,\n",
    "       mys_avg, rom_avg, sci_avg, thr_avg, war_avg]\n",
    "ylab = ['$0', '$5M', '$10M', '$15M', '$20M', '$25M', '$30M']\n",
    "\n",
    "fig, ax1 = plt.subplots(figsize=(15,10))\n",
    "\n",
    "ax1.bar(labs,vals)\n",
    "fig.patch.set_facecolor('black')\n",
    "#ax1.set_ylabel('Average Opening Revenue', fontsize=20)\n",
    "ax1.set_xlabel('Average Opening by Genre', fontsize=20)\n",
    "ax1.grid(False)\n",
    "\n",
    "for tick in ax1.get_xticklabels():\n",
    "    tick.set_rotation(45)\n",
    "plt.setp(ax1.xaxis.get_majorticklabels(), ha='right')\n",
    "\n",
    "# ylabels = [item.get_text() for item in ax1.get_yticklabels()]\n",
    "# for i in range(len(ylabels)):\n",
    "#     ylabels[i] = ylab[i]\n",
    "# ax1.set_yticklabels(ylabels, fontsize=14)\n",
    "\n",
    "#plt.savefig('img/AvgOpeningByGenre1.png')\n",
    "''''''"
   ]
  },
  {
   "cell_type": "markdown",
   "metadata": {},
   "source": [
    "Genre has a strong influence over opening weekend income. It's a trope in the film industry that \"documentaries don't make money\", but we can see that the numbers seem to agree."
   ]
  },
  {
   "cell_type": "markdown",
   "metadata": {},
   "source": [
    "### Looking at release year, and it's impact on opening weekend numbers\n",
    "Streaming has become more and more popular, and we saw that fewer box office films are being made year to year. Can we take this into account in our modeling?"
   ]
  },
  {
   "cell_type": "code",
   "execution_count": 33,
   "metadata": {},
   "outputs": [
    {
     "data": {
      "image/png": "[encoded data removed]",
      "text/plain": [
       "<Figure size 1080x720 with 1 Axes>"
      ]
     },
     "metadata": {},
     "output_type": "display_data"
    }
   ],
   "source": [
    "xlab = ['2015', '2016', '2017', '2018', '2019']\n",
    "ylab = ['$0', '$5M', '$10M', '$15M', '$20M', '$25M']\n",
    "\n",
    "fig, ax1 = plt.subplots(figsize=(15,10))\n",
    "\n",
    "df[df.index.year < 2020].groupby('year').agg({'opening_wknd': 'mean', 'budget':'mean'}).plot(figsize=(15,10), kind='bar', grid=False, ax=ax1)\n",
    "ax1.set_title('Average Budget & Opening by Year', fontsize=26)\n",
    "fig.patch.set_facecolor('black')\n",
    "ax1.set_xlabel('Year', fontsize=20)\n",
    "\n",
    "labels = [item.get_text() for item in ax1.get_xticklabels()]\n",
    "for i in range(len(labels)):\n",
    "    labels[i] = xlab[i]\n",
    "ax1.set_xticklabels(labels, fontsize=16)\n",
    "\n",
    "for tick in ax1.get_xticklabels():\n",
    "    tick.set_rotation(0)\n",
    "    \n",
    "# ylabels = [item.get_text() for item in ax1.get_yticklabels()]\n",
    "# for i in range(len(ylabels)):\n",
    "#     ylabels[i] = ylab[i]\n",
    "# ax1.set_yticklabels(ylabels, fontsize=14)\n",
    "\n",
    "l=plt.legend()\n",
    "l.get_texts()[0].set_text('Opening Weekend')\n",
    "l.get_texts()[1].set_text('Budget')\n",
    "for text in l.get_texts():\n",
    "    text.set_color('black')\n",
    "    \n",
    "#plt.savefig('img/AvgBudget-OpeningByYear11.png')"
   ]
  },
  {
   "cell_type": "markdown",
   "metadata": {},
   "source": [
    "# Looking at the actors now.\n",
    "\n",
    "Popularity scores will be useful, but how else can we quantify the actors?"
   ]
  },
  {
   "cell_type": "code",
   "execution_count": 34,
   "metadata": {},
   "outputs": [
    {
     "data": {
      "text/html": [
       "<div>\n",
       "<style scoped>\n",
       "    .dataframe tbody tr th:only-of-type {\n",
       "        vertical-align: middle;\n",
       "    }\n",
       "\n",
       "    .dataframe tbody tr th {\n",
       "        vertical-align: top;\n",
       "    }\n",
       "\n",
       "    .dataframe thead th {\n",
       "        text-align: right;\n",
       "    }\n",
       "</style>\n",
       "<table border=\"1\" class=\"dataframe\">\n",
       "  <thead>\n",
       "    <tr style=\"text-align: right;\">\n",
       "      <th></th>\n",
       "      <th>actor</th>\n",
       "      <th>name</th>\n",
       "    </tr>\n",
       "  </thead>\n",
       "  <tbody>\n",
       "    <tr>\n",
       "      <th>0</th>\n",
       "      <td>/name/nm0000001/</td>\n",
       "      <td>Fred Astaire</td>\n",
       "    </tr>\n",
       "    <tr>\n",
       "      <th>1</th>\n",
       "      <td>/name/nm0000018/</td>\n",
       "      <td>Kirk Douglas</td>\n",
       "    </tr>\n",
       "    <tr>\n",
       "      <th>2</th>\n",
       "      <td>/name/nm0000023/</td>\n",
       "      <td>Judy Garland</td>\n",
       "    </tr>\n",
       "    <tr>\n",
       "      <th>3</th>\n",
       "      <td>/name/nm0000030/</td>\n",
       "      <td>Audrey Hepburn</td>\n",
       "    </tr>\n",
       "    <tr>\n",
       "      <th>4</th>\n",
       "      <td>/name/nm0000032/</td>\n",
       "      <td>Charlton Heston</td>\n",
       "    </tr>\n",
       "  </tbody>\n",
       "</table>\n",
       "</div>"
      ],
      "text/plain": [
       "              actor             name\n",
       "0  /name/nm0000001/     Fred Astaire\n",
       "1  /name/nm0000018/     Kirk Douglas\n",
       "2  /name/nm0000023/     Judy Garland\n",
       "3  /name/nm0000030/   Audrey Hepburn\n",
       "4  /name/nm0000032/  Charlton Heston"
      ]
     },
     "execution_count": 34,
     "metadata": {},
     "output_type": "execute_result"
    }
   ],
   "source": [
    "actor_key = pd.read_csv('../data/actor_key.csv', index_col=0).reset_index(drop=True)\n",
    "#actor_key = pd.read_csv('data/2019_actors_out.csv', index_col=0).append(missing_df).reset_index() #<--- This is a dirty hack to push a missing actor into the DF\n",
    "actor_key.shape\n",
    "actor_key.head()"
   ]
  },
  {
   "cell_type": "code",
   "execution_count": 35,
   "metadata": {},
   "outputs": [],
   "source": [
    "from collections import defaultdict\n",
    "\n",
    "def leaders(xs, top=21):\n",
    "    counts = defaultdict(int)\n",
    "    for x in xs:\n",
    "        counts[x] += 1\n",
    "    return sorted(counts.items(), reverse=True, key=lambda tup: tup[1])[:top]\n",
    "\n",
    "def tailers(xs, top=21):\n",
    "    counts = defaultdict(int)\n",
    "    for x in xs:\n",
    "        counts[x] += 1\n",
    "    return sorted(counts.items(), reverse=False, key=lambda tup: tup[1])[:top]"
   ]
  },
  {
   "cell_type": "code",
   "execution_count": 36,
   "metadata": {},
   "outputs": [
    {
     "name": "stdout",
     "output_type": "stream",
     "text": [
      "19568\n"
     ]
    }
   ],
   "source": [
    "all_actors = list(films.actor1) + list(films.actor2) + list(films.actor3) + list(films.actor4) + list(films.actor5) + list(films.actor6) + list(films.actor7) + list(films.actor8) + list(films.actor9) + list(films.actor10)\n",
    "print(len(np.unique(all_actors)))\n",
    "unique_actors = np.unique(all_actors)"
   ]
  },
  {
   "cell_type": "code",
   "execution_count": 37,
   "metadata": {},
   "outputs": [
    {
     "data": {
      "text/plain": [
       "[('/name/nm0000168/', 16),\n",
       " ('/name/nm0000437/', 14),\n",
       " ('/name/nm1209966/', 13),\n",
       " ('/name/nm0000285/', 13),\n",
       " ('/name/nm0000173/', 13),\n",
       " ('/name/nm0290556/', 12),\n",
       " ('/name/nm0000616/', 12),\n",
       " ('/name/nm0425005/', 12),\n",
       " ('/name/nm0366389/', 12),\n",
       " ('/name/nm0788335/', 12),\n",
       " ('/name/nm1221047/', 12),\n",
       " ('/name/nm0799777/', 12),\n",
       " ('/name/nm0131966/', 12),\n",
       " ('/name/nm0000204/', 11),\n",
       " ('/name/nm0000115/', 11),\n",
       " ('/name/nm3485845/', 11),\n",
       " ('/name/nm0818055/', 11),\n",
       " ('/name/nm0000160/', 11),\n",
       " ('/name/nm3053338/', 11)]"
      ]
     },
     "execution_count": 37,
     "metadata": {},
     "output_type": "execute_result"
    }
   ],
   "source": [
    "topActors = leaders(all_actors, top=20)[1:]\n",
    "bottomActors = tailers(all_actors, top=20)\n",
    "topActors"
   ]
  },
  {
   "cell_type": "code",
   "execution_count": 38,
   "metadata": {},
   "outputs": [
    {
     "data": {
      "text/plain": [
       "['/name/nm11046471/',\n",
       " '/name/nm0740168/',\n",
       " '/name/nm10651990/',\n",
       " '/name/nm10810195/',\n",
       " '/name/nm5634768/',\n",
       " '/name/nm4069220/',\n",
       " '/name/nm7617524/',\n",
       " '/name/nm10758564/',\n",
       " '/name/nm10385769/',\n",
       " '/name/nm3054850/',\n",
       " '/name/nm4060295/',\n",
       " '/name/nm1060352/',\n",
       " '/name/nm10600316/',\n",
       " '/name/nm10603252/',\n",
       " '/name/nm4147126/',\n",
       " '/name/nm10695943/',\n",
       " '/name/nm2114691/',\n",
       " '/name/nm2306402/',\n",
       " '/name/nm3721607/',\n",
       " '/name/nm0448486/']"
      ]
     },
     "execution_count": 38,
     "metadata": {},
     "output_type": "execute_result"
    }
   ],
   "source": [
    "a_keys = [i[0] for i in topActors]\n",
    "b_keys = [i[0] for i in bottomActors]\n",
    "a_keys\n",
    "b_keys"
   ]
  },
  {
   "cell_type": "code",
   "execution_count": 39,
   "metadata": {},
   "outputs": [],
   "source": [
    "def get_actor_names(keys):\n",
    "    r = []\n",
    "    for k in keys:\n",
    "        r.append(get_actor_name(k))\n",
    "    return r\n",
    "\n",
    "def get_actor_name(key):\n",
    "    #print(key)\n",
    "    row = actor_key.loc[actor_key['actor'] == key].index[0]\n",
    "    return(actor_key.iloc[row]['name'])\n",
    "\n",
    "def get_actor_key(name):\n",
    "    #print(key)\n",
    "    row = actor_key.loc[actor_key['name'] == name].index[0]\n",
    "    return(actor_key.iloc[row]['actor'])"
   ]
  },
  {
   "cell_type": "code",
   "execution_count": 40,
   "metadata": {},
   "outputs": [
    {
     "name": "stdout",
     "output_type": "stream",
     "text": [
      "[]\n"
     ]
    }
   ],
   "source": [
    "#**** This section was used to locate actors not in the keys I'd mined up ***\n",
    "\n",
    "len(np.array(actor_key['actor']))\n",
    "missing = []\n",
    "def find_missing_keys(key):\n",
    "    #print(key)\n",
    "    if isinstance(key, float):\n",
    "        return key\n",
    "    if len(actor_key.loc[actor_key['0'] == key]) < 1:\n",
    "        missing.append(key)\n",
    "        print(\"appended \"+key)\n",
    "        return\n",
    "    return 'cleared'\n",
    "\n",
    "# for k in all_actors:\n",
    "#     find_missing_keys(k)\n",
    "    \n",
    "print(missing)\n",
    "#pd.DataFrame(missing, columns=['actor']).to_csv('data/missing_actors.csv')"
   ]
  },
  {
   "cell_type": "markdown",
   "metadata": {},
   "source": [
    "## Thinking more about how to capture actor importance\n",
    "Individual actors don't appear frequently enough to justify one-hot encoding them on an individual basis. I'm going to have to rely on bracketing the actor popularity into \"classes\" and then one-hotting on their position on the bill. "
   ]
  },
  {
   "cell_type": "code",
   "execution_count": 41,
   "metadata": {
    "scrolled": false
   },
   "outputs": [
    {
     "data": {
      "image/png": "[encoded data removed]",
      "text/plain": [
       "<Figure size 1080x720 with 1 Axes>"
      ]
     },
     "metadata": {},
     "output_type": "display_data"
    }
   ],
   "source": [
    "fig, ax = plt.subplots(figsize=(15,10))\n",
    "plt.bar(*zip(*topActors))\n",
    "plt.xticks(rotation=45)\n",
    "plt.setp(ax.xaxis.get_majorticklabels(), ha='right')\n",
    "plt.ylim(10,17)\n",
    "plt.xticks(fontsize=15)\n",
    "\n",
    "ax.set_ylabel('Number of films', fontsize=20)\n",
    "ax.set_xlabel('Actor', fontsize=20)\n",
    "ax.set_title('20 Most Film Credits by Actor (2015-2019)', fontsize=24)\n",
    "fig.patch.set_facecolor('black')\n",
    "ax.grid(False)\n",
    "\n",
    "labels = get_actor_names(a_keys)\n",
    "ax.set_xticklabels(labels)\n",
    "\n",
    "plt.tight_layout()\n",
    "#plt.savefig('img/FilmCountByActor4.png')"
   ]
  },
  {
   "cell_type": "markdown",
   "metadata": {},
   "source": [
    "### converting popularity scores into letter-list of actor for one-hot encoding"
   ]
  },
  {
   "cell_type": "code",
   "execution_count": 42,
   "metadata": {},
   "outputs": [],
   "source": [
    "def get_celeb_class(pop):\n",
    "    if pop <=2000:\n",
    "        return 'A-list'\n",
    "    elif pop <= 5000:\n",
    "        return 'B-list'\n",
    "    elif pop <= 20000:\n",
    "        return 'C-list'\n",
    "    elif pop <= 100000:\n",
    "        return 'D-list'\n",
    "    elif pop <= 250000:\n",
    "        return 'E-list'\n",
    "    else:\n",
    "        return 'nobody'"
   ]
  },
  {
   "cell_type": "code",
   "execution_count": 43,
   "metadata": {},
   "outputs": [],
   "source": [
    "films['actor1_class'] = films['actor1_popularity'].map(lambda x : get_celeb_class(x))\n",
    "films['actor2_class'] = films['actor2_popularity'].map(lambda x : get_celeb_class(x))\n",
    "films['actor3_class'] = films['actor3_popularity'].map(lambda x : get_celeb_class(x))\n",
    "films['actor4_class'] = films['actor4_popularity'].map(lambda x : get_celeb_class(x))\n",
    "films['actor5_class'] = films['actor5_popularity'].map(lambda x : get_celeb_class(x))\n",
    "films['actor6_class'] = films['actor6_popularity'].map(lambda x : get_celeb_class(x))\n",
    "films['actor7_class'] = films['actor7_popularity'].map(lambda x : get_celeb_class(x))\n",
    "films['actor8_class'] = films['actor8_popularity'].map(lambda x : get_celeb_class(x))\n",
    "films['actor9_class'] = films['actor9_popularity'].map(lambda x : get_celeb_class(x))\n",
    "films['actor10_class'] = films['actor10_popularity'].map(lambda x : get_celeb_class(x))"
   ]
  },
  {
   "cell_type": "markdown",
   "metadata": {},
   "source": [
    "# Normalize the budget data"
   ]
  },
  {
   "cell_type": "code",
   "execution_count": 44,
   "metadata": {},
   "outputs": [],
   "source": [
    "bud = films[['budget']].values\n",
    "min_max_scaler = preprocessing.MinMaxScaler()\n",
    "bud_scaled = min_max_scaler.fit_transform(bud)\n",
    "films['budget_normalized']=bud_scaled"
   ]
  },
  {
   "cell_type": "markdown",
   "metadata": {},
   "source": [
    "# Change the timestamp into months and years"
   ]
  },
  {
   "cell_type": "code",
   "execution_count": 45,
   "metadata": {},
   "outputs": [],
   "source": [
    "#films = films[films['release_month'] != np.nan] #git rid of entires without release dates\n",
    "films['release_month'] = films['release_date'].map(lambda x : pd.to_datetime(x).month)\n",
    "films['release_month'] = films['release_month'].map(lambda x : 'January' if x == 1 else ( 'February' if x==2 else ( 'March' if x==3 else ( 'April' if x==4 else ('May' if x==5 else ('June' if x==6 else ( 'July' if x==7 else ( 'August' if x==8 else ('September' if x==9 else ( 'October' if x==10 else ( 'November' if x==11 else ('December' if x==12 else 'unknown'))))))))) ) ))"
   ]
  },
  {
   "cell_type": "code",
   "execution_count": 46,
   "metadata": {},
   "outputs": [],
   "source": [
    "films['release_year'] = films['release_date'].map(lambda x : x.year)\n",
    "films['release_year'] = films['release_year'].map(lambda x : '2015' if x == 2015 else ( '2016' if x==2016 else ( '2017' if x==2017 else ( '2018' if x==2018 else ('2019' if x==2019 else ('2020' if x==2020 else 'none'))))))"
   ]
  },
  {
   "cell_type": "markdown",
   "metadata": {},
   "source": [
    "\n",
    "\n",
    "\n",
    "# OK! Let's train some models!"
   ]
  },
  {
   "cell_type": "code",
   "execution_count": 51,
   "metadata": {},
   "outputs": [
    {
     "name": "stdout",
     "output_type": "stream",
     "text": [
      "Base Model will guess: 6284064.0\n",
      "Our baseline RMSE is : 21204937\n"
     ]
    }
   ],
   "source": [
    "from sklearn.model_selection import train_test_split\n",
    "from sklearn.metrics import log_loss, mean_squared_error, r2_score, confusion_matrix\n",
    "from sklearn.tree import DecisionTreeRegressor\n",
    "from sklearn.ensemble import  RandomForestRegressor, AdaBoostRegressor, GradientBoostingRegressor\n",
    "from sklearn.linear_model import LinearRegression\n",
    "from math import sqrt\n",
    "import scipy.stats as stats\n",
    "\n",
    "dum_guess = round(films['opening_wknd'].mean())\n",
    "print(\"Base Model will guess: \"+ str(dum_guess))\n",
    "print(\"Our baseline RMSE is : \" + str(round(sqrt(mean_squared_error(films.opening_wknd.to_numpy(), np.full(films.opening_wknd.to_numpy().shape,dum_guess))))))"
   ]
  },
  {
   "cell_type": "markdown",
   "metadata": {},
   "source": [
    "## Circling back around to bracket our data-set into classes of revenue\n",
    "I'm not getting the sort of RMSE improvements that I'd like to see out of the modeling, so I'm going to try and bracket the films and see if I can fit on smaller windows of the data.\n",
    "\n",
    "(This did not pan out to work as well as I'd hoped... I solved it in the modeling though.)"
   ]
  },
  {
   "cell_type": "code",
   "execution_count": 52,
   "metadata": {},
   "outputs": [
    {
     "name": "stdout",
     "output_type": "stream",
     "text": [
      "(1507, 75) (776, 75) (889, 75) (55, 75) (31, 75)\n"
     ]
    }
   ],
   "source": [
    "films_sub100k = films[(films.opening_wknd <= 200000) ] # & (films.budget != films.opening_wknd)\n",
    "films_100k_1M = films[(films.opening_wknd > 100000) & (films.opening_wknd <= 1000000)]\n",
    "films_1M_50M = films[(films.opening_wknd > 1000000) & (films.opening_wknd <= 50000000)]\n",
    "films_50M_100M = films[(films.opening_wknd > 50000000) & (films.opening_wknd <= 100000000)]\n",
    "films_100M_plus = films[(films.opening_wknd > 100000000)]\n",
    "print(films_sub100k.shape, films_100k_1M.shape, films_1M_50M.shape, films_50M_100M.shape, films_100M_plus.shape)"
   ]
  },
  {
   "cell_type": "code",
   "execution_count": 53,
   "metadata": {},
   "outputs": [
    {
     "data": {
      "text/plain": [
       "357115007.0"
      ]
     },
     "execution_count": 53,
     "metadata": {},
     "output_type": "execute_result"
    }
   ],
   "source": [
    "films.opening_wknd.max()"
   ]
  },
  {
   "cell_type": "markdown",
   "metadata": {},
   "source": [
    "### The models all fit based on the \"using df\" - so you have to pass in the set of data you want the model to evaluate before running all the rest of the cells"
   ]
  },
  {
   "cell_type": "code",
   "execution_count": 54,
   "metadata": {},
   "outputs": [],
   "source": [
    "using_df = films.copy()"
   ]
  },
  {
   "cell_type": "code",
   "execution_count": 98,
   "metadata": {},
   "outputs": [],
   "source": [
    "#make dummies from our curated columns\n",
    "dum = pd.get_dummies(using_df[['release_month', 'rating', 'actor1_class', 'actor2_class', 'actor3_class', 'actor4_class',\n",
    "                              'actor5_class']])"
   ]
  },
  {
   "cell_type": "code",
   "execution_count": 99,
   "metadata": {},
   "outputs": [
    {
     "data": {
      "text/html": [
       "<div>\n",
       "<style scoped>\n",
       "    .dataframe tbody tr th:only-of-type {\n",
       "        vertical-align: middle;\n",
       "    }\n",
       "\n",
       "    .dataframe tbody tr th {\n",
       "        vertical-align: top;\n",
       "    }\n",
       "\n",
       "    .dataframe thead th {\n",
       "        text-align: right;\n",
       "    }\n",
       "</style>\n",
       "<table border=\"1\" class=\"dataframe\">\n",
       "  <thead>\n",
       "    <tr style=\"text-align: right;\">\n",
       "      <th></th>\n",
       "      <th>release_month_April</th>\n",
       "      <th>release_month_August</th>\n",
       "      <th>release_month_December</th>\n",
       "      <th>release_month_February</th>\n",
       "      <th>release_month_January</th>\n",
       "      <th>release_month_July</th>\n",
       "      <th>release_month_June</th>\n",
       "      <th>release_month_March</th>\n",
       "      <th>release_month_May</th>\n",
       "      <th>release_month_November</th>\n",
       "      <th>release_month_October</th>\n",
       "      <th>release_month_September</th>\n",
       "      <th>release_month_unknown</th>\n",
       "      <th>rating_Approved</th>\n",
       "      <th>rating_G</th>\n",
       "      <th>rating_M</th>\n",
       "      <th>rating_NC-17</th>\n",
       "      <th>rating_Not Rated</th>\n",
       "      <th>rating_PG</th>\n",
       "      <th>rating_PG-13</th>\n",
       "      <th>rating_R</th>\n",
       "      <th>rating_TV-14</th>\n",
       "      <th>rating_TV-G</th>\n",
       "      <th>rating_TV-MA</th>\n",
       "      <th>rating_TV-PG</th>\n",
       "      <th>rating_Unrated</th>\n",
       "      <th>actor1_class_A-list</th>\n",
       "      <th>actor1_class_B-list</th>\n",
       "      <th>actor1_class_C-list</th>\n",
       "      <th>actor1_class_D-list</th>\n",
       "      <th>actor1_class_E-list</th>\n",
       "      <th>actor1_class_nobody</th>\n",
       "      <th>actor2_class_A-list</th>\n",
       "      <th>actor2_class_B-list</th>\n",
       "      <th>actor2_class_C-list</th>\n",
       "      <th>actor2_class_D-list</th>\n",
       "      <th>actor2_class_E-list</th>\n",
       "      <th>actor2_class_nobody</th>\n",
       "      <th>actor3_class_A-list</th>\n",
       "      <th>actor3_class_B-list</th>\n",
       "      <th>actor3_class_C-list</th>\n",
       "      <th>actor3_class_D-list</th>\n",
       "      <th>actor3_class_E-list</th>\n",
       "      <th>actor3_class_nobody</th>\n",
       "      <th>actor4_class_A-list</th>\n",
       "      <th>actor4_class_B-list</th>\n",
       "      <th>actor4_class_C-list</th>\n",
       "      <th>actor4_class_D-list</th>\n",
       "      <th>actor4_class_E-list</th>\n",
       "      <th>actor4_class_nobody</th>\n",
       "      <th>actor5_class_A-list</th>\n",
       "      <th>actor5_class_B-list</th>\n",
       "      <th>actor5_class_C-list</th>\n",
       "      <th>actor5_class_D-list</th>\n",
       "      <th>actor5_class_E-list</th>\n",
       "      <th>actor5_class_nobody</th>\n",
       "    </tr>\n",
       "  </thead>\n",
       "  <tbody>\n",
       "    <tr>\n",
       "      <th>0</th>\n",
       "      <td>0</td>\n",
       "      <td>0</td>\n",
       "      <td>0</td>\n",
       "      <td>0</td>\n",
       "      <td>0</td>\n",
       "      <td>0</td>\n",
       "      <td>0</td>\n",
       "      <td>0</td>\n",
       "      <td>0</td>\n",
       "      <td>1</td>\n",
       "      <td>0</td>\n",
       "      <td>0</td>\n",
       "      <td>0</td>\n",
       "      <td>0</td>\n",
       "      <td>0</td>\n",
       "      <td>0</td>\n",
       "      <td>0</td>\n",
       "      <td>0</td>\n",
       "      <td>0</td>\n",
       "      <td>0</td>\n",
       "      <td>1</td>\n",
       "      <td>0</td>\n",
       "      <td>0</td>\n",
       "      <td>0</td>\n",
       "      <td>0</td>\n",
       "      <td>0</td>\n",
       "      <td>1</td>\n",
       "      <td>0</td>\n",
       "      <td>0</td>\n",
       "      <td>0</td>\n",
       "      <td>0</td>\n",
       "      <td>0</td>\n",
       "      <td>1</td>\n",
       "      <td>0</td>\n",
       "      <td>0</td>\n",
       "      <td>0</td>\n",
       "      <td>0</td>\n",
       "      <td>0</td>\n",
       "      <td>1</td>\n",
       "      <td>0</td>\n",
       "      <td>0</td>\n",
       "      <td>0</td>\n",
       "      <td>0</td>\n",
       "      <td>0</td>\n",
       "      <td>1</td>\n",
       "      <td>0</td>\n",
       "      <td>0</td>\n",
       "      <td>0</td>\n",
       "      <td>0</td>\n",
       "      <td>0</td>\n",
       "      <td>1</td>\n",
       "      <td>0</td>\n",
       "      <td>0</td>\n",
       "      <td>0</td>\n",
       "      <td>0</td>\n",
       "      <td>0</td>\n",
       "    </tr>\n",
       "    <tr>\n",
       "      <th>1</th>\n",
       "      <td>0</td>\n",
       "      <td>0</td>\n",
       "      <td>0</td>\n",
       "      <td>1</td>\n",
       "      <td>0</td>\n",
       "      <td>0</td>\n",
       "      <td>0</td>\n",
       "      <td>0</td>\n",
       "      <td>0</td>\n",
       "      <td>0</td>\n",
       "      <td>0</td>\n",
       "      <td>0</td>\n",
       "      <td>0</td>\n",
       "      <td>0</td>\n",
       "      <td>0</td>\n",
       "      <td>0</td>\n",
       "      <td>0</td>\n",
       "      <td>0</td>\n",
       "      <td>0</td>\n",
       "      <td>1</td>\n",
       "      <td>0</td>\n",
       "      <td>0</td>\n",
       "      <td>0</td>\n",
       "      <td>0</td>\n",
       "      <td>0</td>\n",
       "      <td>0</td>\n",
       "      <td>1</td>\n",
       "      <td>0</td>\n",
       "      <td>0</td>\n",
       "      <td>0</td>\n",
       "      <td>0</td>\n",
       "      <td>0</td>\n",
       "      <td>1</td>\n",
       "      <td>0</td>\n",
       "      <td>0</td>\n",
       "      <td>0</td>\n",
       "      <td>0</td>\n",
       "      <td>0</td>\n",
       "      <td>1</td>\n",
       "      <td>0</td>\n",
       "      <td>0</td>\n",
       "      <td>0</td>\n",
       "      <td>0</td>\n",
       "      <td>0</td>\n",
       "      <td>1</td>\n",
       "      <td>0</td>\n",
       "      <td>0</td>\n",
       "      <td>0</td>\n",
       "      <td>0</td>\n",
       "      <td>0</td>\n",
       "      <td>1</td>\n",
       "      <td>0</td>\n",
       "      <td>0</td>\n",
       "      <td>0</td>\n",
       "      <td>0</td>\n",
       "      <td>0</td>\n",
       "    </tr>\n",
       "    <tr>\n",
       "      <th>2</th>\n",
       "      <td>0</td>\n",
       "      <td>0</td>\n",
       "      <td>0</td>\n",
       "      <td>0</td>\n",
       "      <td>0</td>\n",
       "      <td>0</td>\n",
       "      <td>0</td>\n",
       "      <td>0</td>\n",
       "      <td>0</td>\n",
       "      <td>1</td>\n",
       "      <td>0</td>\n",
       "      <td>0</td>\n",
       "      <td>0</td>\n",
       "      <td>0</td>\n",
       "      <td>0</td>\n",
       "      <td>0</td>\n",
       "      <td>0</td>\n",
       "      <td>0</td>\n",
       "      <td>0</td>\n",
       "      <td>0</td>\n",
       "      <td>1</td>\n",
       "      <td>0</td>\n",
       "      <td>0</td>\n",
       "      <td>0</td>\n",
       "      <td>0</td>\n",
       "      <td>0</td>\n",
       "      <td>1</td>\n",
       "      <td>0</td>\n",
       "      <td>0</td>\n",
       "      <td>0</td>\n",
       "      <td>0</td>\n",
       "      <td>0</td>\n",
       "      <td>0</td>\n",
       "      <td>0</td>\n",
       "      <td>0</td>\n",
       "      <td>1</td>\n",
       "      <td>0</td>\n",
       "      <td>0</td>\n",
       "      <td>0</td>\n",
       "      <td>0</td>\n",
       "      <td>1</td>\n",
       "      <td>0</td>\n",
       "      <td>0</td>\n",
       "      <td>0</td>\n",
       "      <td>0</td>\n",
       "      <td>0</td>\n",
       "      <td>0</td>\n",
       "      <td>1</td>\n",
       "      <td>0</td>\n",
       "      <td>0</td>\n",
       "      <td>0</td>\n",
       "      <td>0</td>\n",
       "      <td>1</td>\n",
       "      <td>0</td>\n",
       "      <td>0</td>\n",
       "      <td>0</td>\n",
       "    </tr>\n",
       "    <tr>\n",
       "      <th>3</th>\n",
       "      <td>1</td>\n",
       "      <td>0</td>\n",
       "      <td>0</td>\n",
       "      <td>0</td>\n",
       "      <td>0</td>\n",
       "      <td>0</td>\n",
       "      <td>0</td>\n",
       "      <td>0</td>\n",
       "      <td>0</td>\n",
       "      <td>0</td>\n",
       "      <td>0</td>\n",
       "      <td>0</td>\n",
       "      <td>0</td>\n",
       "      <td>0</td>\n",
       "      <td>0</td>\n",
       "      <td>0</td>\n",
       "      <td>0</td>\n",
       "      <td>0</td>\n",
       "      <td>0</td>\n",
       "      <td>1</td>\n",
       "      <td>0</td>\n",
       "      <td>0</td>\n",
       "      <td>0</td>\n",
       "      <td>0</td>\n",
       "      <td>0</td>\n",
       "      <td>0</td>\n",
       "      <td>1</td>\n",
       "      <td>0</td>\n",
       "      <td>0</td>\n",
       "      <td>0</td>\n",
       "      <td>0</td>\n",
       "      <td>0</td>\n",
       "      <td>1</td>\n",
       "      <td>0</td>\n",
       "      <td>0</td>\n",
       "      <td>0</td>\n",
       "      <td>0</td>\n",
       "      <td>0</td>\n",
       "      <td>0</td>\n",
       "      <td>0</td>\n",
       "      <td>1</td>\n",
       "      <td>0</td>\n",
       "      <td>0</td>\n",
       "      <td>0</td>\n",
       "      <td>0</td>\n",
       "      <td>1</td>\n",
       "      <td>0</td>\n",
       "      <td>0</td>\n",
       "      <td>0</td>\n",
       "      <td>0</td>\n",
       "      <td>1</td>\n",
       "      <td>0</td>\n",
       "      <td>0</td>\n",
       "      <td>0</td>\n",
       "      <td>0</td>\n",
       "      <td>0</td>\n",
       "    </tr>\n",
       "    <tr>\n",
       "      <th>4</th>\n",
       "      <td>0</td>\n",
       "      <td>0</td>\n",
       "      <td>0</td>\n",
       "      <td>0</td>\n",
       "      <td>1</td>\n",
       "      <td>0</td>\n",
       "      <td>0</td>\n",
       "      <td>0</td>\n",
       "      <td>0</td>\n",
       "      <td>0</td>\n",
       "      <td>0</td>\n",
       "      <td>0</td>\n",
       "      <td>0</td>\n",
       "      <td>0</td>\n",
       "      <td>0</td>\n",
       "      <td>0</td>\n",
       "      <td>0</td>\n",
       "      <td>0</td>\n",
       "      <td>0</td>\n",
       "      <td>0</td>\n",
       "      <td>1</td>\n",
       "      <td>0</td>\n",
       "      <td>0</td>\n",
       "      <td>0</td>\n",
       "      <td>0</td>\n",
       "      <td>0</td>\n",
       "      <td>1</td>\n",
       "      <td>0</td>\n",
       "      <td>0</td>\n",
       "      <td>0</td>\n",
       "      <td>0</td>\n",
       "      <td>0</td>\n",
       "      <td>0</td>\n",
       "      <td>1</td>\n",
       "      <td>0</td>\n",
       "      <td>0</td>\n",
       "      <td>0</td>\n",
       "      <td>0</td>\n",
       "      <td>0</td>\n",
       "      <td>0</td>\n",
       "      <td>0</td>\n",
       "      <td>1</td>\n",
       "      <td>0</td>\n",
       "      <td>0</td>\n",
       "      <td>0</td>\n",
       "      <td>0</td>\n",
       "      <td>1</td>\n",
       "      <td>0</td>\n",
       "      <td>0</td>\n",
       "      <td>0</td>\n",
       "      <td>1</td>\n",
       "      <td>0</td>\n",
       "      <td>0</td>\n",
       "      <td>0</td>\n",
       "      <td>0</td>\n",
       "      <td>0</td>\n",
       "    </tr>\n",
       "  </tbody>\n",
       "</table>\n",
       "</div>"
      ],
      "text/plain": [
       "   release_month_April  release_month_August  release_month_December  \\\n",
       "0                    0                     0                       0   \n",
       "1                    0                     0                       0   \n",
       "2                    0                     0                       0   \n",
       "3                    1                     0                       0   \n",
       "4                    0                     0                       0   \n",
       "\n",
       "   release_month_February  release_month_January  release_month_July  \\\n",
       "0                       0                      0                   0   \n",
       "1                       1                      0                   0   \n",
       "2                       0                      0                   0   \n",
       "3                       0                      0                   0   \n",
       "4                       0                      1                   0   \n",
       "\n",
       "   release_month_June  release_month_March  release_month_May  \\\n",
       "0                   0                    0                  0   \n",
       "1                   0                    0                  0   \n",
       "2                   0                    0                  0   \n",
       "3                   0                    0                  0   \n",
       "4                   0                    0                  0   \n",
       "\n",
       "   release_month_November  release_month_October  release_month_September  \\\n",
       "0                       1                      0                        0   \n",
       "1                       0                      0                        0   \n",
       "2                       1                      0                        0   \n",
       "3                       0                      0                        0   \n",
       "4                       0                      0                        0   \n",
       "\n",
       "   release_month_unknown  rating_Approved  rating_G  rating_M  rating_NC-17  \\\n",
       "0                      0                0         0         0             0   \n",
       "1                      0                0         0         0             0   \n",
       "2                      0                0         0         0             0   \n",
       "3                      0                0         0         0             0   \n",
       "4                      0                0         0         0             0   \n",
       "\n",
       "   rating_Not Rated  rating_PG  rating_PG-13  rating_R  rating_TV-14  \\\n",
       "0                 0          0             0         1             0   \n",
       "1                 0          0             1         0             0   \n",
       "2                 0          0             0         1             0   \n",
       "3                 0          0             1         0             0   \n",
       "4                 0          0             0         1             0   \n",
       "\n",
       "   rating_TV-G  rating_TV-MA  rating_TV-PG  rating_Unrated  \\\n",
       "0            0             0             0               0   \n",
       "1            0             0             0               0   \n",
       "2            0             0             0               0   \n",
       "3            0             0             0               0   \n",
       "4            0             0             0               0   \n",
       "\n",
       "   actor1_class_A-list  actor1_class_B-list  actor1_class_C-list  \\\n",
       "0                    1                    0                    0   \n",
       "1                    1                    0                    0   \n",
       "2                    1                    0                    0   \n",
       "3                    1                    0                    0   \n",
       "4                    1                    0                    0   \n",
       "\n",
       "   actor1_class_D-list  actor1_class_E-list  actor1_class_nobody  \\\n",
       "0                    0                    0                    0   \n",
       "1                    0                    0                    0   \n",
       "2                    0                    0                    0   \n",
       "3                    0                    0                    0   \n",
       "4                    0                    0                    0   \n",
       "\n",
       "   actor2_class_A-list  actor2_class_B-list  actor2_class_C-list  \\\n",
       "0                    1                    0                    0   \n",
       "1                    1                    0                    0   \n",
       "2                    0                    0                    0   \n",
       "3                    1                    0                    0   \n",
       "4                    0                    1                    0   \n",
       "\n",
       "   actor2_class_D-list  actor2_class_E-list  actor2_class_nobody  \\\n",
       "0                    0                    0                    0   \n",
       "1                    0                    0                    0   \n",
       "2                    1                    0                    0   \n",
       "3                    0                    0                    0   \n",
       "4                    0                    0                    0   \n",
       "\n",
       "   actor3_class_A-list  actor3_class_B-list  actor3_class_C-list  \\\n",
       "0                    1                    0                    0   \n",
       "1                    1                    0                    0   \n",
       "2                    0                    0                    1   \n",
       "3                    0                    0                    1   \n",
       "4                    0                    0                    0   \n",
       "\n",
       "   actor3_class_D-list  actor3_class_E-list  actor3_class_nobody  \\\n",
       "0                    0                    0                    0   \n",
       "1                    0                    0                    0   \n",
       "2                    0                    0                    0   \n",
       "3                    0                    0                    0   \n",
       "4                    1                    0                    0   \n",
       "\n",
       "   actor4_class_A-list  actor4_class_B-list  actor4_class_C-list  \\\n",
       "0                    1                    0                    0   \n",
       "1                    1                    0                    0   \n",
       "2                    0                    0                    0   \n",
       "3                    0                    1                    0   \n",
       "4                    0                    0                    1   \n",
       "\n",
       "   actor4_class_D-list  actor4_class_E-list  actor4_class_nobody  \\\n",
       "0                    0                    0                    0   \n",
       "1                    0                    0                    0   \n",
       "2                    1                    0                    0   \n",
       "3                    0                    0                    0   \n",
       "4                    0                    0                    0   \n",
       "\n",
       "   actor5_class_A-list  actor5_class_B-list  actor5_class_C-list  \\\n",
       "0                    1                    0                    0   \n",
       "1                    1                    0                    0   \n",
       "2                    0                    0                    1   \n",
       "3                    1                    0                    0   \n",
       "4                    1                    0                    0   \n",
       "\n",
       "   actor5_class_D-list  actor5_class_E-list  actor5_class_nobody  \n",
       "0                    0                    0                    0  \n",
       "1                    0                    0                    0  \n",
       "2                    0                    0                    0  \n",
       "3                    0                    0                    0  \n",
       "4                    0                    0                    0  "
      ]
     },
     "execution_count": 99,
     "metadata": {},
     "output_type": "execute_result"
    }
   ],
   "source": [
    "dum.head()"
   ]
  },
  {
   "cell_type": "code",
   "execution_count": 100,
   "metadata": {},
   "outputs": [
    {
     "data": {
      "text/html": [
       "<div>\n",
       "<style scoped>\n",
       "    .dataframe tbody tr th:only-of-type {\n",
       "        vertical-align: middle;\n",
       "    }\n",
       "\n",
       "    .dataframe tbody tr th {\n",
       "        vertical-align: top;\n",
       "    }\n",
       "\n",
       "    .dataframe thead th {\n",
       "        text-align: right;\n",
       "    }\n",
       "</style>\n",
       "<table border=\"1\" class=\"dataframe\">\n",
       "  <thead>\n",
       "    <tr style=\"text-align: right;\">\n",
       "      <th></th>\n",
       "      <th>budget</th>\n",
       "      <th>action</th>\n",
       "      <th>adventure</th>\n",
       "      <th>animated</th>\n",
       "      <th>biography</th>\n",
       "      <th>drama</th>\n",
       "      <th>documentary</th>\n",
       "      <th>comedy</th>\n",
       "      <th>crime</th>\n",
       "      <th>fantasy</th>\n",
       "      <th>family</th>\n",
       "      <th>musical</th>\n",
       "      <th>horror</th>\n",
       "      <th>war</th>\n",
       "      <th>mystery</th>\n",
       "      <th>sci-fi</th>\n",
       "      <th>thriller</th>\n",
       "      <th>romance</th>\n",
       "    </tr>\n",
       "  </thead>\n",
       "  <tbody>\n",
       "    <tr>\n",
       "      <th>0</th>\n",
       "      <td>26000000.0</td>\n",
       "      <td>0</td>\n",
       "      <td>0</td>\n",
       "      <td>0</td>\n",
       "      <td>0</td>\n",
       "      <td>1</td>\n",
       "      <td>0</td>\n",
       "      <td>0</td>\n",
       "      <td>1</td>\n",
       "      <td>0</td>\n",
       "      <td>0</td>\n",
       "      <td>0</td>\n",
       "      <td>0</td>\n",
       "      <td>0</td>\n",
       "      <td>1</td>\n",
       "      <td>0</td>\n",
       "      <td>0</td>\n",
       "      <td>0</td>\n",
       "    </tr>\n",
       "    <tr>\n",
       "      <th>1</th>\n",
       "      <td>170000000.0</td>\n",
       "      <td>1</td>\n",
       "      <td>1</td>\n",
       "      <td>0</td>\n",
       "      <td>0</td>\n",
       "      <td>0</td>\n",
       "      <td>0</td>\n",
       "      <td>0</td>\n",
       "      <td>0</td>\n",
       "      <td>0</td>\n",
       "      <td>0</td>\n",
       "      <td>0</td>\n",
       "      <td>0</td>\n",
       "      <td>0</td>\n",
       "      <td>0</td>\n",
       "      <td>1</td>\n",
       "      <td>1</td>\n",
       "      <td>0</td>\n",
       "    </tr>\n",
       "    <tr>\n",
       "      <th>2</th>\n",
       "      <td>35000000.0</td>\n",
       "      <td>1</td>\n",
       "      <td>0</td>\n",
       "      <td>0</td>\n",
       "      <td>0</td>\n",
       "      <td>1</td>\n",
       "      <td>0</td>\n",
       "      <td>0</td>\n",
       "      <td>0</td>\n",
       "      <td>0</td>\n",
       "      <td>0</td>\n",
       "      <td>0</td>\n",
       "      <td>0</td>\n",
       "      <td>1</td>\n",
       "      <td>0</td>\n",
       "      <td>0</td>\n",
       "      <td>0</td>\n",
       "      <td>0</td>\n",
       "    </tr>\n",
       "    <tr>\n",
       "      <th>3</th>\n",
       "      <td>100000000.0</td>\n",
       "      <td>1</td>\n",
       "      <td>1</td>\n",
       "      <td>0</td>\n",
       "      <td>0</td>\n",
       "      <td>0</td>\n",
       "      <td>0</td>\n",
       "      <td>1</td>\n",
       "      <td>0</td>\n",
       "      <td>1</td>\n",
       "      <td>0</td>\n",
       "      <td>0</td>\n",
       "      <td>0</td>\n",
       "      <td>0</td>\n",
       "      <td>0</td>\n",
       "      <td>0</td>\n",
       "      <td>0</td>\n",
       "      <td>0</td>\n",
       "    </tr>\n",
       "    <tr>\n",
       "      <th>4</th>\n",
       "      <td>20000000.0</td>\n",
       "      <td>0</td>\n",
       "      <td>0</td>\n",
       "      <td>0</td>\n",
       "      <td>0</td>\n",
       "      <td>1</td>\n",
       "      <td>0</td>\n",
       "      <td>0</td>\n",
       "      <td>0</td>\n",
       "      <td>0</td>\n",
       "      <td>0</td>\n",
       "      <td>0</td>\n",
       "      <td>0</td>\n",
       "      <td>1</td>\n",
       "      <td>0</td>\n",
       "      <td>0</td>\n",
       "      <td>0</td>\n",
       "      <td>0</td>\n",
       "    </tr>\n",
       "  </tbody>\n",
       "</table>\n",
       "</div>"
      ],
      "text/plain": [
       "        budget  action  adventure  animated  biography  drama  documentary  \\\n",
       "0   26000000.0       0          0         0          0      1            0   \n",
       "1  170000000.0       1          1         0          0      0            0   \n",
       "2   35000000.0       1          0         0          0      1            0   \n",
       "3  100000000.0       1          1         0          0      0            0   \n",
       "4   20000000.0       0          0         0          0      1            0   \n",
       "\n",
       "   comedy  crime  fantasy  family  musical  horror  war  mystery  sci-fi  \\\n",
       "0       0      1        0       0        0       0    0        1       0   \n",
       "1       0      0        0       0        0       0    0        0       1   \n",
       "2       0      0        0       0        0       0    1        0       0   \n",
       "3       1      0        1       0        0       0    0        0       0   \n",
       "4       0      0        0       0        0       0    1        0       0   \n",
       "\n",
       "   thriller  romance  \n",
       "0         0        0  \n",
       "1         1        0  \n",
       "2         0        0  \n",
       "3         0        0  \n",
       "4         0        0  "
      ]
     },
     "execution_count": 100,
     "metadata": {},
     "output_type": "execute_result"
    }
   ],
   "source": [
    "#pull the columns we want from the main DF\n",
    "use_cols = using_df[['budget','action','adventure','animated','biography','drama','documentary',\n",
    "                     'comedy','crime','fantasy','family','musical','horror','war','mystery',\n",
    "                     'sci-fi','thriller','romance']]\n",
    "use_cols.head()"
   ]
  },
  {
   "cell_type": "code",
   "execution_count": 101,
   "metadata": {},
   "outputs": [
    {
     "name": "stdout",
     "output_type": "stream",
     "text": [
      "Base Model will guess: 6284064.0\n",
      "Our baseline RMSE is : 21204937\n"
     ]
    }
   ],
   "source": [
    "y = using_df['opening_wknd']\n",
    "X = pd.concat([use_cols,dum], axis=1, sort=False)\n",
    "\n",
    "dum_guess = round(using_df['opening_wknd'].mean())\n",
    "#print(round(using_df['budget'].mean()))\n",
    "print(\"Base Model will guess: \"+ str(dum_guess))\n",
    "print(\"Our baseline RMSE is : \" + str(round(sqrt(mean_squared_error(y, np.full(y.shape,dum_guess))))))"
   ]
  },
  {
   "cell_type": "code",
   "execution_count": 102,
   "metadata": {},
   "outputs": [],
   "source": [
    "X_train, X_test, y_train, y_test = train_test_split(X, y, test_size=0.2, random_state=42)"
   ]
  },
  {
   "cell_type": "code",
   "execution_count": 103,
   "metadata": {},
   "outputs": [],
   "source": [
    "lin_model = LinearRegression()\n",
    "lin_model.fit(X_train, y_train)\n",
    "lin_preds = lin_model.predict(X_test)"
   ]
  },
  {
   "cell_type": "code",
   "execution_count": 104,
   "metadata": {},
   "outputs": [
    {
     "name": "stdout",
     "output_type": "stream",
     "text": [
      "MSE : 246746175994829.66\n",
      "RMSE: 15708156.352507753\n"
     ]
    }
   ],
   "source": [
    "print(\"MSE : \" + str(mean_squared_error(y_test, lin_preds)))\n",
    "print(\"RMSE: \" + str(sqrt(mean_squared_error(y_test, lin_preds))))"
   ]
  },
  {
   "cell_type": "code",
   "execution_count": 94,
   "metadata": {},
   "outputs": [
    {
     "data": {
      "text/plain": [
       "DecisionTreeRegressor(ccp_alpha=0.0, criterion='mse', max_depth=None,\n",
       "                      max_features=None, max_leaf_nodes=None,\n",
       "                      min_impurity_decrease=0.0, min_impurity_split=None,\n",
       "                      min_samples_leaf=1, min_samples_split=2,\n",
       "                      min_weight_fraction_leaf=0.0, presort='deprecated',\n",
       "                      random_state=None, splitter='best')"
      ]
     },
     "execution_count": 94,
     "metadata": {},
     "output_type": "execute_result"
    }
   ],
   "source": [
    "dt_model = DecisionTreeRegressor()\n",
    "dt_model.fit(X_train, y_train)"
   ]
  },
  {
   "cell_type": "code",
   "execution_count": 95,
   "metadata": {},
   "outputs": [
    {
     "name": "stdout",
     "output_type": "stream",
     "text": [
      "MSE : 442588125177407.4\n",
      "RMSE: 21037778.522871833\n"
     ]
    }
   ],
   "source": [
    "dt_preds = dt_model.predict(X_test)\n",
    "print(\"MSE : \" + str(mean_squared_error(y_test, dt_preds)))\n",
    "print(\"RMSE: \" + str(sqrt(mean_squared_error(y_test, dt_preds))))"
   ]
  },
  {
   "cell_type": "code",
   "execution_count": 96,
   "metadata": {},
   "outputs": [
    {
     "name": "stdout",
     "output_type": "stream",
     "text": [
      "MSE : 271476525583944.4\n",
      "RMSE: 16476544.71010061\n"
     ]
    }
   ],
   "source": [
    "rf_model = RandomForestRegressor(n_estimators=350,\n",
    "                           #max_features=3,\n",
    "                            max_depth=1000,\n",
    "                           #random_state=0,\n",
    "                            min_samples_split=10,\n",
    "                            min_samples_leaf=5)\n",
    "rf_model.fit(X_train, y_train)\n",
    "rf_pred = rf_model.predict(X_test)\n",
    "print(\"MSE : \" + str(mean_squared_error(y_test, rf_pred)))\n",
    "print(\"RMSE: \" + str(sqrt(mean_squared_error(y_test, rf_pred))))"
   ]
  },
  {
   "cell_type": "code",
   "execution_count": 97,
   "metadata": {},
   "outputs": [
    {
     "name": "stdout",
     "output_type": "stream",
     "text": [
      "MSE : 251231481762925.22\n",
      "RMSE: 15850283.33383745\n"
     ]
    }
   ],
   "source": [
    "model_g = GradientBoostingRegressor(learning_rate=0.005,\n",
    "                                   n_estimators=230,\n",
    "                                   min_samples_leaf=18,\n",
    "                                   max_depth=2000)\n",
    "model_g.fit(X_train,y_train)\n",
    "preds_gb = model_g.predict(X_test)\n",
    "print(\"MSE : \" + str(mean_squared_error(y_test, preds_gb)))\n",
    "print(\"RMSE: \" + str(sqrt(mean_squared_error(y_test, preds_gb))))"
   ]
  },
  {
   "cell_type": "code",
   "execution_count": 66,
   "metadata": {},
   "outputs": [
    {
     "data": {
      "text/plain": [
       "[<matplotlib.lines.Line2D at 0x7fe63167d240>]"
      ]
     },
     "execution_count": 66,
     "metadata": {},
     "output_type": "execute_result"
    },
    {
     "data": {
      "image/png": "[encoded data removed]",
      "text/plain": [
       "<Figure size 1080x720 with 1 Axes>"
      ]
     },
     "metadata": {
      "needs_background": "light"
     },
     "output_type": "display_data"
    }
   ],
   "source": [
    "fig, ax = plt.subplots(figsize=(15,10))\n",
    "line = np.linspace(0,100000000,endpoint=True)\n",
    "diag = lambda x : x\n",
    "ax.scatter(y_test,preds_gb)\n",
    "ax.plot(line, diag(line), 'r')"
   ]
  },
  {
   "cell_type": "code",
   "execution_count": 67,
   "metadata": {},
   "outputs": [
    {
     "data": {
      "text/plain": [
       "AdaBoostRegressor(base_estimator=None, learning_rate=0.01, loss='linear',\n",
       "                  n_estimators=250, random_state=None)"
      ]
     },
     "execution_count": 67,
     "metadata": {},
     "output_type": "execute_result"
    }
   ],
   "source": [
    "ada_model = AdaBoostRegressor(learning_rate=0.010,\n",
    "                            n_estimators=250)\n",
    "ada_model.fit(X_train,y_train)"
   ]
  },
  {
   "cell_type": "code",
   "execution_count": 68,
   "metadata": {},
   "outputs": [
    {
     "name": "stdout",
     "output_type": "stream",
     "text": [
      "R2 Score: 0.12258641236461809\n",
      "MSE : 410749694074398.06\n",
      "RMSE: 20266960.6521155\n"
     ]
    }
   ],
   "source": [
    "ada_preds = ada_model.predict(X_test)\n",
    "print(\"R2 Score: \" + str(r2_score(y_test, ada_preds)))\n",
    "print(\"MSE : \" + str(mean_squared_error(y_test, ada_preds)))\n",
    "print(\"RMSE: \" + str(sqrt(mean_squared_error(y_test, ada_preds))))"
   ]
  },
  {
   "cell_type": "code",
   "execution_count": 69,
   "metadata": {},
   "outputs": [],
   "source": [
    "n_samples, n_feats = X_train.shape\n",
    "\n",
    "tf_model = Sequential() # sequence of layers\n",
    "\n",
    "denselayer = Dense(units=20,\n",
    "                input_dim=n_feats,\n",
    "                kernel_initializer='uniform',\n",
    "                activation='sigmoid')\n",
    "\n",
    "hidden_layer = Dense(units=50,\n",
    "                kernel_initializer='uniform',\n",
    "                activation='softmax')\n",
    "\n",
    "hidden_layer1 = Dense(units=35,\n",
    "                kernel_initializer='uniform',\n",
    "                activation='softmax')\n",
    "\n",
    "out_layer = Dense(units=1,\n",
    "                kernel_initializer='uniform',\n",
    "                activation='sigmoid')\n",
    "\n",
    "\n",
    "tf_model.add(denselayer)\n",
    "tf_model.add(hidden_layer)\n",
    "tf_model.add(hidden_layer1)\n",
    "tf_model.add(out_layer)\n",
    "\n",
    "\n",
    "tf_model.compile(loss='mse', \n",
    "              optimizer='adam', metrics=['mae','mse'] )"
   ]
  },
  {
   "cell_type": "code",
   "execution_count": 87,
   "metadata": {},
   "outputs": [
    {
     "name": "stdout",
     "output_type": "stream",
     "text": [
      "WARNING:tensorflow:Falling back from v2 loop because of error: Failed to find data adapter that can handle input: <class 'pandas.core.frame.DataFrame'>, <class 'NoneType'>\n",
      "Train on 2134 samples, validate on 238 samples\n",
      "Epoch 1/50\n",
      "2134/2134 [==============================] - 0s 109us/sample - loss: 518664919196546.2500 - mae: 6449871.0000 - mse: 518664914731008.0000 - val_loss: 180153028851694.7812 - val_mae: 4942889.0000 - val_mse: 180153040764928.0000\n",
      "Epoch 2/50\n",
      "2134/2134 [==============================] - 0s 105us/sample - loss: 518664932200068.0000 - mae: 6449871.0000 - mse: 518664847622144.0000 - val_loss: 180153028217262.2500 - val_mae: 4942889.0000 - val_mse: 180153023987712.0000\n",
      "Epoch 3/50\n",
      "2134/2134 [==============================] - 0s 115us/sample - loss: 518664945604544.6250 - mae: 6449872.0000 - mse: 518664948285440.0000 - val_loss: 180153027230367.1875 - val_mae: 4942889.0000 - val_mse: 180153023987712.0000\n",
      "Epoch 4/50\n",
      "2134/2134 [==============================] - 0s 99us/sample - loss: 518664933001978.0000 - mae: 6449869.5000 - mse: 518664914731008.0000 - val_loss: 180153022366384.4062 - val_mae: 4942889.0000 - val_mse: 180153040764928.0000\n",
      "Epoch 5/50\n",
      "2134/2134 [==============================] - 0s 128us/sample - loss: 518664931803043.8750 - mae: 6449872.0000 - mse: 518664847622144.0000 - val_loss: 180153033927155.0938 - val_mae: 4942889.0000 - val_mse: 180153040764928.0000\n",
      "Epoch 6/50\n",
      "2134/2134 [==============================] - 0s 111us/sample - loss: 518664923080306.6875 - mae: 6449870.5000 - mse: 518664914731008.0000 - val_loss: 180153028499232.2812 - val_mae: 4942889.0000 - val_mse: 180153023987712.0000\n",
      "Epoch 7/50\n",
      "2134/2134 [==============================] - 0s 106us/sample - loss: 518664938851204.1875 - mae: 6449871.0000 - mse: 518664881176576.0000 - val_loss: 180153023635249.4688 - val_mae: 4942889.0000 - val_mse: 180153023987712.0000\n",
      "Epoch 8/50\n",
      "2134/2134 [==============================] - 0s 105us/sample - loss: 518664930289635.1875 - mae: 6449868.5000 - mse: 518664847622144.0000 - val_loss: 180153030684499.9062 - val_mae: 4942889.5000 - val_mse: 180153040764928.0000\n",
      "Epoch 9/50\n",
      "2134/2134 [==============================] - 0s 111us/sample - loss: 518664944621811.7500 - mae: 6449871.5000 - mse: 518664914731008.0000 - val_loss: 180153027230367.1875 - val_mae: 4942889.0000 - val_mse: 180153023987712.0000\n",
      "Epoch 10/50\n",
      "2134/2134 [==============================] - 0s 104us/sample - loss: 518664928159070.2500 - mae: 6449871.5000 - mse: 518664914731008.0000 - val_loss: 180153033539446.3125 - val_mae: 4942889.0000 - val_mse: 180153023987712.0000\n",
      "Epoch 11/50\n",
      "2134/2134 [==============================] - 0s 109us/sample - loss: 518664934468215.5000 - mae: 6449871.5000 - mse: 518664948285440.0000 - val_loss: 180153027794307.2188 - val_mae: 4942889.0000 - val_mse: 180153040764928.0000\n",
      "Epoch 12/50\n",
      "2134/2134 [==============================] - 0s 116us/sample - loss: 518664934810206.5000 - mae: 6449871.0000 - mse: 518664981839872.0000 - val_loss: 180153024974607.0625 - val_mae: 4942889.0000 - val_mse: 180152990433280.0000\n",
      "Epoch 13/50\n",
      "2134/2134 [==============================] - 0s 135us/sample - loss: 518664938583900.8750 - mae: 6449870.0000 - mse: 518664881176576.0000 - val_loss: 180153033081245.0312 - val_mae: 4942889.5000 - val_mse: 180153040764928.0000\n",
      "Epoch 14/50\n",
      "2134/2134 [==============================] - 0s 103us/sample - loss: 518664934120328.0000 - mae: 6449869.5000 - mse: 518664914731008.0000 - val_loss: 180153030332037.3750 - val_mae: 4942889.0000 - val_mse: 180153023987712.0000\n",
      "Epoch 15/50\n",
      "2134/2134 [==============================] - 0s 103us/sample - loss: 518664928190517.7500 - mae: 6449871.0000 - mse: 518664780513280.0000 - val_loss: 180153035971437.7188 - val_mae: 4942889.5000 - val_mse: 180153057542144.0000\n",
      "Epoch 16/50\n",
      "2134/2134 [==============================] - 0s 105us/sample - loss: 518664935454879.3125 - mae: 6449871.0000 - mse: 518664914731008.0000 - val_loss: 180153030191052.3750 - val_mae: 4942889.0000 - val_mse: 180153040764928.0000\n",
      "Epoch 17/50\n",
      "2134/2134 [==============================] - 0s 102us/sample - loss: 518664934773845.4375 - mae: 6449871.5000 - mse: 518664981839872.0000 - val_loss: 180153031979799.6562 - val_mae: 4942889.5000 - val_mse: 180153040764928.0000\n",
      "Epoch 18/50\n",
      "2134/2134 [==============================] - 0s 102us/sample - loss: 518664940093378.5625 - mae: 6449871.5000 - mse: 518664881176576.0000 - val_loss: 180153024657390.7812 - val_mae: 4942889.0000 - val_mse: 180153040764928.0000\n",
      "Epoch 19/50\n",
      "2134/2134 [==============================] - 0s 103us/sample - loss: 518664925611826.6250 - mae: 6449870.5000 - mse: 518664881176576.0000 - val_loss: 180153027723814.7188 - val_mae: 4942889.5000 - val_mse: 180153023987712.0000\n",
      "Epoch 20/50\n",
      "2134/2134 [==============================] - 0s 105us/sample - loss: 518664929165388.7500 - mae: 6449870.5000 - mse: 518664881176576.0000 - val_loss: 180153029027926.0625 - val_mae: 4942889.0000 - val_mse: 180153023987712.0000\n",
      "Epoch 21/50\n",
      "2134/2134 [==============================] - 0s 113us/sample - loss: 518664928803743.0625 - mae: 6449871.5000 - mse: 518664981839872.0000 - val_loss: 180153025080345.8125 - val_mae: 4942889.5000 - val_mse: 180153040764928.0000\n",
      "Epoch 22/50\n",
      "2134/2134 [==============================] - 0s 122us/sample - loss: 518664933269281.3750 - mae: 6449872.5000 - mse: 518665048948736.0000 - val_loss: 180153020463086.7812 - val_mae: 4942889.0000 - val_mse: 180153023987712.0000\n",
      "Epoch 23/50\n",
      "2134/2134 [==============================] - 0s 98us/sample - loss: 518664938318562.9375 - mae: 6449871.0000 - mse: 518664981839872.0000 - val_loss: 180153025362315.8438 - val_mae: 4942889.0000 - val_mse: 180153040764928.0000\n",
      "Epoch 24/50\n",
      "2134/2134 [==============================] - 0s 105us/sample - loss: 518664931319539.3125 - mae: 6449872.0000 - mse: 518664914731008.0000 - val_loss: 180153024119885.4375 - val_mae: 4942889.0000 - val_mse: 180153023987712.0000\n",
      "Epoch 25/50\n",
      "2134/2134 [==============================] - 0s 109us/sample - loss: 518664933568032.1875 - mae: 6449870.5000 - mse: 518664981839872.0000 - val_loss: 180153023666089.9375 - val_mae: 4942889.5000 - val_mse: 180153040764928.0000\n",
      "Epoch 26/50\n",
      "2134/2134 [==============================] - 0s 114us/sample - loss: 518664935030338.6875 - mae: 6449870.5000 - mse: 518665048948736.0000 - val_loss: 180153026384457.1562 - val_mae: 4942889.0000 - val_mse: 180153023987712.0000\n",
      "Epoch 27/50\n",
      "2134/2134 [==============================] - 0s 101us/sample - loss: 518664936763879.5625 - mae: 6449871.5000 - mse: 518664981839872.0000 - val_loss: 180153029988386.4062 - val_mae: 4942889.0000 - val_mse: 180153023987712.0000\n",
      "Epoch 28/50\n",
      "2134/2134 [==============================] - 0s 104us/sample - loss: 518664934979236.5625 - mae: 6449872.5000 - mse: 518665048948736.0000 - val_loss: 180153022789339.4375 - val_mae: 4942889.5000 - val_mse: 180153023987712.0000\n",
      "Epoch 29/50\n",
      "2134/2134 [==============================] - 0s 105us/sample - loss: 518664922317706.0000 - mae: 6449870.5000 - mse: 518664981839872.0000 - val_loss: 180153037363664.6875 - val_mae: 4942889.0000 - val_mse: 180153057542144.0000\n",
      "Epoch 30/50\n",
      "2134/2134 [==============================] - 0s 99us/sample - loss: 518664940360681.9375 - mae: 6449872.5000 - mse: 518665048948736.0000 - val_loss: 180153032816898.1562 - val_mae: 4942889.0000 - val_mse: 180153040764928.0000\n",
      "Epoch 31/50\n",
      "2134/2134 [==============================] - 0s 115us/sample - loss: 518664933127767.8125 - mae: 6449870.5000 - mse: 518664847622144.0000 - val_loss: 180153025256577.0625 - val_mae: 4942889.0000 - val_mse: 180153023987712.0000\n",
      "Epoch 32/50\n",
      "2134/2134 [==============================] - 0s 110us/sample - loss: 518664931657599.4375 - mae: 6449871.5000 - mse: 518664881176576.0000 - val_loss: 180153030332037.3750 - val_mae: 4942889.0000 - val_mse: 180153040764928.0000\n",
      "Epoch 33/50\n",
      "2134/2134 [==============================] - 0s 107us/sample - loss: 518664937844885.7500 - mae: 6449871.0000 - mse: 518664981839872.0000 - val_loss: 180153029909082.3438 - val_mae: 4942889.0000 - val_mse: 180153023987712.0000\n",
      "Epoch 34/50\n",
      "2134/2134 [==============================] - 0s 102us/sample - loss: 518664942388059.8750 - mae: 6449872.0000 - mse: 518664948285440.0000 - val_loss: 180153028640217.2812 - val_mae: 4942889.0000 - val_mse: 180153040764928.0000\n",
      "Epoch 35/50\n",
      "2134/2134 [==============================] - 0s 103us/sample - loss: 518664933823542.6875 - mae: 6449869.5000 - mse: 518664914731008.0000 - val_loss: 180153034279617.6250 - val_mae: 4942889.0000 - val_mse: 180153057542144.0000\n",
      "Epoch 36/50\n",
      "2134/2134 [==============================] - 0s 98us/sample - loss: 518664942896132.8125 - mae: 6449871.5000 - mse: 518664914731008.0000 - val_loss: 180153019881523.6250 - val_mae: 4942889.0000 - val_mse: 180153023987712.0000\n",
      "Epoch 37/50\n",
      "2134/2134 [==============================] - 0s 101us/sample - loss: 518664928086348.0625 - mae: 6449872.5000 - mse: 518664914731008.0000 - val_loss: 180153024551652.0312 - val_mae: 4942889.0000 - val_mse: 180153040764928.0000\n",
      "Epoch 38/50\n",
      "2134/2134 [==============================] - 0s 124us/sample - loss: 518664933953263.4375 - mae: 6449871.0000 - mse: 518664847622144.0000 - val_loss: 180153028041031.0000 - val_mae: 4942889.5000 - val_mse: 180153040764928.0000\n",
      "Epoch 39/50\n",
      "2134/2134 [==============================] - 0s 100us/sample - loss: 518664940895288.6250 - mae: 6449870.5000 - mse: 518664948285440.0000 - val_loss: 180153022154906.9062 - val_mae: 4942889.5000 - val_mse: 180153023987712.0000\n",
      "Epoch 40/50\n",
      "2134/2134 [==============================] - 0s 110us/sample - loss: 518664929385520.9375 - mae: 6449870.5000 - mse: 518664948285440.0000 - val_loss: 180153033750923.8438 - val_mae: 4942889.5000 - val_mse: 180153040764928.0000\n",
      "Epoch 41/50\n",
      "2134/2134 [==============================] - 0s 106us/sample - loss: 518664944967733.7500 - mae: 6449869.5000 - mse: 518664914731008.0000 - val_loss: 180153027230367.1875 - val_mae: 4942889.0000 - val_mse: 180153040764928.0000\n",
      "Epoch 42/50\n",
      "2134/2134 [==============================] - 0s 106us/sample - loss: 518664931791251.0625 - mae: 6449871.0000 - mse: 518664914731008.0000 - val_loss: 180153030473022.3750 - val_mae: 4942889.5000 - val_mse: 180153057542144.0000\n",
      "Epoch 43/50\n",
      "2134/2134 [==============================] - 0s 101us/sample - loss: 518664922765832.1250 - mae: 6449870.5000 - mse: 518664914731008.0000 - val_loss: 180153026666427.1562 - val_mae: 4942889.5000 - val_mse: 180153040764928.0000\n",
      "Epoch 44/50\n",
      "2134/2134 [==============================] - 0s 105us/sample - loss: 518664932990185.1875 - mae: 6449871.5000 - mse: 518665116057600.0000 - val_loss: 180153032658290.0312 - val_mae: 4942889.0000 - val_mse: 180153040764928.0000\n",
      "Epoch 45/50\n",
      "2134/2134 [==============================] - 0s 98us/sample - loss: 518664933202455.5000 - mae: 6449870.5000 - mse: 518664847622144.0000 - val_loss: 180153021273750.5938 - val_mae: 4942889.5000 - val_mse: 180152990433280.0000\n",
      "Epoch 46/50\n",
      "2134/2134 [==============================] - 0s 96us/sample - loss: 518664930439010.6250 - mae: 6449870.5000 - mse: 518664881176576.0000 - val_loss: 180153026666427.1562 - val_mae: 4942889.5000 - val_mse: 180153023987712.0000\n",
      "Epoch 47/50\n",
      "2134/2134 [==============================] - 0s 106us/sample - loss: 518664943253847.5625 - mae: 6449871.5000 - mse: 518664948285440.0000 - val_loss: 180153027212744.0625 - val_mae: 4942889.0000 - val_mse: 180153023987712.0000\n",
      "Epoch 48/50\n",
      "2134/2134 [==============================] - 0s 139us/sample - loss: 518664940234892.1250 - mae: 6449872.5000 - mse: 518665015394304.0000 - val_loss: 180153022013921.8750 - val_mae: 4942888.5000 - val_mse: 180153023987712.0000\n",
      "Epoch 49/50\n",
      "2134/2134 [==============================] - 0s 114us/sample - loss: 518664930553007.6250 - mae: 6449871.0000 - mse: 518664981839872.0000 - val_loss: 180153024269682.0312 - val_mae: 4942889.0000 - val_mse: 180153023987712.0000\n",
      "Epoch 50/50\n",
      "2134/2134 [==============================] - 0s 102us/sample - loss: 518664929558481.9375 - mae: 6449870.5000 - mse: 518664914731008.0000 - val_loss: 180153033962401.3438 - val_mae: 4942889.5000 - val_mse: 180153040764928.0000\n"
     ]
    },
    {
     "data": {
      "text/plain": [
       "<tensorflow.python.keras.callbacks.History at 0x7fe62d830e48>"
      ]
     },
     "execution_count": 87,
     "metadata": {},
     "output_type": "execute_result"
    }
   ],
   "source": [
    "tf_model.fit(X_train, y_train, epochs=50, batch_size=32, verbose=1, validation_split=0.1, use_multiprocessing=True)"
   ]
  },
  {
   "cell_type": "code",
   "execution_count": 88,
   "metadata": {},
   "outputs": [
    {
     "name": "stdout",
     "output_type": "stream",
     "text": [
      "WARNING:tensorflow:Falling back from v2 loop because of error: Failed to find data adapter that can handle input: <class 'pandas.core.frame.DataFrame'>, <class 'NoneType'>\n",
      "MSE : 506895718885135.6\n",
      "RMSE: 22514344.735859748\n"
     ]
    }
   ],
   "source": [
    "tf_preds = tf_model.predict(X_test)\n",
    "print(\"MSE : \" + str(mean_squared_error(y_test, tf_preds)))\n",
    "print(\"RMSE: \" + str(sqrt(mean_squared_error(y_test, tf_preds))))"
   ]
  },
  {
   "cell_type": "markdown",
   "metadata": {},
   "source": [
    "I've got everything I need to start digging into the modeling more. I've got some baseline models here to work from. I'm going to move to a fresh notebook and start trying some of these ideas out."
   ]
  }
 ],
 "metadata": {
  "kernelspec": {
   "display_name": "Python 3",
   "language": "python",
   "name": "python3"
  },
  "language_info": {
   "codemirror_mode": {
    "name": "ipython",
    "version": 3
   },
   "file_extension": ".py",
   "mimetype": "text/x-python",
   "name": "python",
   "nbconvert_exporter": "python",
   "pygments_lexer": "ipython3",
   "version": "3.6.5"
  }
 },
 "nbformat": 4,
 "nbformat_minor": 4
}
