{
 "cells": [
  {
   "cell_type": "code",
   "execution_count": 100,
   "metadata": {},
   "outputs": [],
   "source": [
    "import pandas as pd\n",
    "import numpy as np\n",
    "import matplotlib.pyplot as plt\n",
    "from random import randint\n",
    "from collections import defaultdict\n",
    "import re\n",
    "\n",
    "from sklearn.model_selection import train_test_split, GridSearchCV\n",
    "from sklearn.metrics import log_loss, mean_squared_error, r2_score, confusion_matrix\n",
    "from sklearn.tree import DecisionTreeRegressor\n",
    "from sklearn.ensemble import  RandomForestRegressor, AdaBoostRegressor, GradientBoostingRegressor\n",
    "from sklearn.linear_model import LinearRegression\n",
    "import xgboost as xgb\n",
    "from sklearn.feature_extraction import FeatureHasher\n",
    "from sklearn.feature_extraction.text import HashingVectorizer, TfidfTransformer\n",
    "from math import sqrt\n",
    "import scipy.stats as stats\n",
    "from scipy.stats import zscore\n",
    "\n",
    "import tensorflow as tf\n",
    "from tensorflow import keras\n",
    "from tensorflow.keras.models import Sequential\n",
    "from tensorflow.keras.layers import Dense, Dropout, Activation\n",
    "from tensorflow.keras.optimizers import SGD\n",
    "from tensorflow.keras.utils import to_categorical\n",
    "from sklearn import preprocessing\n",
    "%matplotlib inline\n",
    "\n",
    "pd.set_option('display.max_columns', None)\n",
    "pd.set_option('display.max_rows', None)"
   ]
  },
  {
   "cell_type": "markdown",
   "metadata": {},
   "source": [
    "# Import the data and clean it up with all the functions from our EDA\n",
    "\n",
    "We will be using the string hashing trick to attempt a better fit than our initial methods. For this reason we're going to conform as many of our columns to individual strings as possible, and then turn the row into 1 string for processing with the FeatureHasher."
   ]
  },
  {
   "cell_type": "code",
   "execution_count": 285,
   "metadata": {},
   "outputs": [
    {
     "data": {
      "text/plain": [
       "(2965, 26)"
      ]
     },
     "execution_count": 285,
     "metadata": {},
     "output_type": "execute_result"
    }
   ],
   "source": [
    "_2019 = pd.read_csv('../data/IMDB_mine_data_2019.csv',index_col=0)\n",
    "_2018 = pd.read_csv('../data/IMDB_mine_data_2018.csv',index_col=0)\n",
    "_2017 = pd.read_csv('../data/IMDB_mine_data_2017.csv',index_col=0)\n",
    "_2016 = pd.read_csv('../data/IMDB_mine_data_2016.csv',index_col=0)\n",
    "_2015 = pd.read_csv('../data/IMDB_mine_data_2015.csv',index_col=0)\n",
    "#get all the films into one DF\n",
    "films = pd.concat([_2019,_2018,_2017,_2016,_2015])\n",
    "# remove the filler films we were using to start the mining bot\n",
    "films = films[films['title_code'] != np.nan]\n",
    "films = films[films['opening_wknd'] != np.nan]\n",
    "films = films[films['release_date'] != '1980-05-16']\n",
    "films.shape"
   ]
  },
  {
   "cell_type": "code",
   "execution_count": 286,
   "metadata": {},
   "outputs": [
    {
     "data": {
      "text/html": [
       "<div>\n",
       "<style scoped>\n",
       "    .dataframe tbody tr th:only-of-type {\n",
       "        vertical-align: middle;\n",
       "    }\n",
       "\n",
       "    .dataframe tbody tr th {\n",
       "        vertical-align: top;\n",
       "    }\n",
       "\n",
       "    .dataframe thead th {\n",
       "        text-align: right;\n",
       "    }\n",
       "</style>\n",
       "<table border=\"1\" class=\"dataframe\">\n",
       "  <thead>\n",
       "    <tr style=\"text-align: right;\">\n",
       "      <th></th>\n",
       "      <th>title</th>\n",
       "      <th>runtime</th>\n",
       "      <th>release_date</th>\n",
       "      <th>rating</th>\n",
       "      <th>prod_co</th>\n",
       "      <th>metaScore</th>\n",
       "      <th>metaUserScore</th>\n",
       "      <th>imdb_rating</th>\n",
       "      <th>genre</th>\n",
       "      <th>actor1</th>\n",
       "      <th>actor2</th>\n",
       "      <th>actor3</th>\n",
       "      <th>actor4</th>\n",
       "      <th>actor5</th>\n",
       "      <th>actor6</th>\n",
       "      <th>actor7</th>\n",
       "      <th>actor8</th>\n",
       "      <th>actor9</th>\n",
       "      <th>actor10</th>\n",
       "      <th>directors</th>\n",
       "      <th>writers</th>\n",
       "      <th>budget</th>\n",
       "      <th>opening_wknd</th>\n",
       "      <th>gross_dom</th>\n",
       "      <th>gross_int</th>\n",
       "      <th>title_code</th>\n",
       "    </tr>\n",
       "  </thead>\n",
       "  <tbody>\n",
       "    <tr>\n",
       "      <th>0</th>\n",
       "      <td>Motherless Brooklyn</td>\n",
       "      <td>0</td>\n",
       "      <td>2019-11-01</td>\n",
       "      <td>R</td>\n",
       "      <td>['Class 5 Films', 'Warner Bros.']</td>\n",
       "      <td>0</td>\n",
       "      <td>0</td>\n",
       "      <td>0</td>\n",
       "      <td>['Crime', 'Drama', 'Mystery']</td>\n",
       "      <td>/name/nm0001570/</td>\n",
       "      <td>/name/nm1813221/</td>\n",
       "      <td>/name/nm0000285/</td>\n",
       "      <td>/name/nm0134072/</td>\n",
       "      <td>/name/nm0000353/</td>\n",
       "      <td>/name/nm0000246/</td>\n",
       "      <td>/name/nm0839486/</td>\n",
       "      <td>/name/nm0427728/</td>\n",
       "      <td>/name/nm1316767/</td>\n",
       "      <td>/name/nm0656929/</td>\n",
       "      <td>['Edward Norton']</td>\n",
       "      <td>['Jonathan Lethem', 'Edward Norton']</td>\n",
       "      <td>26000000.0</td>\n",
       "      <td>3500454.0</td>\n",
       "      <td>9277736.0</td>\n",
       "      <td>18477736.0</td>\n",
       "      <td>tt0385887</td>\n",
       "    </tr>\n",
       "    <tr>\n",
       "      <th>0</th>\n",
       "      <td>Alita: Battle Angel</td>\n",
       "      <td>0</td>\n",
       "      <td>2019-02-14</td>\n",
       "      <td>PG-13</td>\n",
       "      <td>['Twentieth Century Fox', 'Twentieth Century F...</td>\n",
       "      <td>0</td>\n",
       "      <td>0</td>\n",
       "      <td>0</td>\n",
       "      <td>['Action', 'Adventure', 'Sci-Fi', 'Thriller']</td>\n",
       "      <td>/name/nm4023073/</td>\n",
       "      <td>/name/nm0910607/</td>\n",
       "      <td>/name/nm0000124/</td>\n",
       "      <td>/name/nm0991810/</td>\n",
       "      <td>/name/nm4534098/</td>\n",
       "      <td>/name/nm0355097/</td>\n",
       "      <td>/name/nm5277107/</td>\n",
       "      <td>/name/nm7449863/</td>\n",
       "      <td>/name/nm7093076/</td>\n",
       "      <td>/name/nm1701107/</td>\n",
       "      <td>['Robert Rodriguez']</td>\n",
       "      <td>['James Cameron', 'Laeta Kalogridis', 'Yukito ...</td>\n",
       "      <td>170000000.0</td>\n",
       "      <td>28525613.0</td>\n",
       "      <td>85710210.0</td>\n",
       "      <td>404852543.0</td>\n",
       "      <td>tt0437086</td>\n",
       "    </tr>\n",
       "    <tr>\n",
       "      <th>0</th>\n",
       "      <td>Danger Close</td>\n",
       "      <td>0</td>\n",
       "      <td>2019-11-08</td>\n",
       "      <td>R</td>\n",
       "      <td>['Deeper Water', 'Saboteur Media', 'Saban Films']</td>\n",
       "      <td>0</td>\n",
       "      <td>0</td>\n",
       "      <td>0</td>\n",
       "      <td>['Action', 'Drama', 'War']</td>\n",
       "      <td>/name/nm1379938/</td>\n",
       "      <td>/name/nm9826817/</td>\n",
       "      <td>/name/nm1542397/</td>\n",
       "      <td>/name/nm2527406/</td>\n",
       "      <td>/name/nm5937328/</td>\n",
       "      <td>/name/nm9680111/</td>\n",
       "      <td>/name/nm3478396/</td>\n",
       "      <td>/name/nm7011217/</td>\n",
       "      <td>/name/nm2828232/</td>\n",
       "      <td>/name/nm7202582/</td>\n",
       "      <td>['Kriv Stenders']</td>\n",
       "      <td>['Stuart Beattie', 'James Nicholas', 'Karel Se...</td>\n",
       "      <td>35000000.0</td>\n",
       "      <td>2078370.0</td>\n",
       "      <td>NaN</td>\n",
       "      <td>NaN</td>\n",
       "      <td>tt0441881</td>\n",
       "    </tr>\n",
       "  </tbody>\n",
       "</table>\n",
       "</div>"
      ],
      "text/plain": [
       "                 title  runtime release_date rating  \\\n",
       "0  Motherless Brooklyn        0   2019-11-01      R   \n",
       "0  Alita: Battle Angel        0   2019-02-14  PG-13   \n",
       "0         Danger Close        0   2019-11-08      R   \n",
       "\n",
       "                                             prod_co  metaScore  \\\n",
       "0                  ['Class 5 Films', 'Warner Bros.']          0   \n",
       "0  ['Twentieth Century Fox', 'Twentieth Century F...          0   \n",
       "0  ['Deeper Water', 'Saboteur Media', 'Saban Films']          0   \n",
       "\n",
       "   metaUserScore  imdb_rating                                          genre  \\\n",
       "0              0            0                  ['Crime', 'Drama', 'Mystery']   \n",
       "0              0            0  ['Action', 'Adventure', 'Sci-Fi', 'Thriller']   \n",
       "0              0            0                     ['Action', 'Drama', 'War']   \n",
       "\n",
       "             actor1            actor2            actor3            actor4  \\\n",
       "0  /name/nm0001570/  /name/nm1813221/  /name/nm0000285/  /name/nm0134072/   \n",
       "0  /name/nm4023073/  /name/nm0910607/  /name/nm0000124/  /name/nm0991810/   \n",
       "0  /name/nm1379938/  /name/nm9826817/  /name/nm1542397/  /name/nm2527406/   \n",
       "\n",
       "             actor5            actor6            actor7            actor8  \\\n",
       "0  /name/nm0000353/  /name/nm0000246/  /name/nm0839486/  /name/nm0427728/   \n",
       "0  /name/nm4534098/  /name/nm0355097/  /name/nm5277107/  /name/nm7449863/   \n",
       "0  /name/nm5937328/  /name/nm9680111/  /name/nm3478396/  /name/nm7011217/   \n",
       "\n",
       "             actor9           actor10             directors  \\\n",
       "0  /name/nm1316767/  /name/nm0656929/     ['Edward Norton']   \n",
       "0  /name/nm7093076/  /name/nm1701107/  ['Robert Rodriguez']   \n",
       "0  /name/nm2828232/  /name/nm7202582/     ['Kriv Stenders']   \n",
       "\n",
       "                                             writers       budget  \\\n",
       "0               ['Jonathan Lethem', 'Edward Norton']   26000000.0   \n",
       "0  ['James Cameron', 'Laeta Kalogridis', 'Yukito ...  170000000.0   \n",
       "0  ['Stuart Beattie', 'James Nicholas', 'Karel Se...   35000000.0   \n",
       "\n",
       "   opening_wknd   gross_dom    gross_int title_code  \n",
       "0     3500454.0   9277736.0   18477736.0  tt0385887  \n",
       "0    28525613.0  85710210.0  404852543.0  tt0437086  \n",
       "0     2078370.0         NaN          NaN  tt0441881  "
      ]
     },
     "execution_count": 286,
     "metadata": {},
     "output_type": "execute_result"
    }
   ],
   "source": [
    "#Reset the index now that all films are in 1 dataframe\n",
    "#films = films.reset_index(drop=True)\n",
    "films.head(3)"
   ]
  },
  {
   "cell_type": "markdown",
   "metadata": {},
   "source": [
    "#### Clean some of the columns and map the features to a cleaner structure"
   ]
  },
  {
   "cell_type": "code",
   "execution_count": 287,
   "metadata": {},
   "outputs": [],
   "source": [
    "#clean the text in the production company column, and turn it into an accessable array\n",
    "films['prod_co'] = films.prod_co.map(lambda x : re.findall(r\"'(.*?)'\",x, re.DOTALL))\n",
    "\n",
    "#break production and distribution out into their own columns\n",
    "films['production'] = films['prod_co'].map(lambda x : x[0] if len(x) >= 1 else np.nan)\n",
    "films['production_2'] = films['prod_co'].map(lambda x : x[1] if len(x) >= 3 else np.nan)\n",
    "films['distribution'] = films['prod_co'].map(lambda x : x[-1] if len(x) >= 2 else np.nan)\n",
    "\n",
    "#convert the release date to a pandas datetime object\n",
    "films['release_date'] = films['release_date'].map(lambda x : pd.to_datetime(x))\n",
    "\n",
    "#Set the first director to their own column\n",
    "films.directors = films.directors.map(lambda x : re.findall(r\"'(.*?)'\",x, re.DOTALL if isinstance(x, str) else np.nan))\n",
    "films['director'] = films['directors'].map(lambda x: x[0].replace(\" \", '') if len(x) >= 1 else 'none')"
   ]
  },
  {
   "cell_type": "markdown",
   "metadata": {},
   "source": [
    "#### Add the Actor names from the key we scraped"
   ]
  },
  {
   "cell_type": "code",
   "execution_count": 288,
   "metadata": {},
   "outputs": [],
   "source": [
    "# convert the actor codes to strings\n",
    "actor_key = pd.read_csv('../data/actor_key.csv', index_col=0).reset_index()\n",
    "\n",
    "def get_actor_name(key):\n",
    "    #print(key)\n",
    "    if isinstance(key, float):\n",
    "        return key\n",
    "    row = actor_key.loc[actor_key['actor'] == key].index[0]\n",
    "    #print(type(actor_key.iloc[row]['name']), actor_key.iloc[row]['name'])\n",
    "    return actor_key.iloc[row]['name']\n",
    "\n",
    "def get_actor_key(name):\n",
    "    #print(key)\n",
    "    row = actor_key.loc[actor_key['name'] == name].index[0]\n",
    "    return(actor_key.iloc[row]['actor'])"
   ]
  },
  {
   "cell_type": "code",
   "execution_count": 289,
   "metadata": {},
   "outputs": [],
   "source": [
    "films['actor_1'] = films['actor1'].map(lambda x : get_actor_name(x).replace(\" \", '') if isinstance(x, str) else None)\n",
    "films['actor_2'] = films['actor2'].map(lambda x : get_actor_name(x).replace(\" \", '') if isinstance(x, str) else None)\n",
    "films['actor_3'] = films['actor3'].map(lambda x : get_actor_name(x).replace(\" \", '') if isinstance(x, str) else None)\n",
    "films['actor_4'] = films['actor4'].map(lambda x : get_actor_name(x).replace(\" \", '') if isinstance(x, str) else None)\n",
    "films['actor_5'] = films['actor5'].map(lambda x : get_actor_name(x).replace(\" \", '') if isinstance(x, str) else None)\n",
    "films['actor_6'] = films['actor6'].map(lambda x : get_actor_name(x).replace(\" \", '') if isinstance(x, str) else None)\n",
    "films['actor_7'] = films['actor7'].map(lambda x : get_actor_name(x).replace(\" \", '') if isinstance(x, str) else None)\n",
    "films['actor_8'] = films['actor8'].map(lambda x : get_actor_name(x).replace(\" \", '') if isinstance(x, str) else None)\n",
    "films['actor_9'] = films['actor9'].map(lambda x : get_actor_name(x).replace(\" \", '') if isinstance(x, str) else None)\n",
    "films['actor_10'] = films['actor10'].map(lambda x : get_actor_name(x).replace(\" \", '') if isinstance(x, str) else None)"
   ]
  },
  {
   "cell_type": "markdown",
   "metadata": {},
   "source": [
    "#### Merge the producers with their films"
   ]
  },
  {
   "cell_type": "code",
   "execution_count": 290,
   "metadata": {},
   "outputs": [],
   "source": [
    "#Add the main producer and executive producer to the dataframe\n",
    "producer_key = pd.read_csv('../data/producer_key.csv', index_col=0)\n",
    "films = films.merge(producer_key, on='title_code', how='left')\n",
    "#remove spaces in the names, and replace the fill values with empty strings\n",
    "films['producer'] = films['producer'].map(lambda x : x.replace(\" \", '') if x!='[]' else None)\n",
    "films['executive'] = films['executive'].map(lambda x : x.replace(\" \", '') if x!='[]' else None)"
   ]
  },
  {
   "cell_type": "markdown",
   "metadata": {},
   "source": [
    "#### Encode the release month as a string column"
   ]
  },
  {
   "cell_type": "code",
   "execution_count": 291,
   "metadata": {},
   "outputs": [],
   "source": [
    "#reencode the release month as a string.\n",
    "films['release_month'] = films['release_date'].map(lambda x : pd.to_datetime(x).month)\n",
    "films['release_month'] = films['release_month'].map(lambda x : 'January' if x == 1 else ( 'February' if x==2 else ( 'March' if x==3 else ( 'April' if x==4 else ('May' if x==5 else ('June' if x==6 else ( 'July' if x==7 else ( 'August' if x==8 else ('September' if x==9 else ( 'October' if x==10 else ( 'November' if x==11 else ('December' if x==12 else 'unknown'))))))))) ) ))\n",
    "#reencode the release year as a string\n",
    "films['release_year'] = films['release_date'].map(lambda x : x.year)\n",
    "films['release_year'] = films['release_year'].map(lambda x : '2015' if x == 2015 else ( '2016' if x==2016 else ( '2017' if x==2017 else ( '2018' if x==2018 else ('2019' if x==2019 else ('2020' if x==2020 else 'none'))))))"
   ]
  },
  {
   "cell_type": "markdown",
   "metadata": {},
   "source": [
    "#### Add all the strings together to simplify our string hashing"
   ]
  },
  {
   "cell_type": "code",
   "execution_count": 397,
   "metadata": {},
   "outputs": [],
   "source": [
    "films['train_string'] = films[['production','distribution','director','actor_1','actor_2','actor_3','actor_4',\n",
    "                               'actor_5','actor_6','actor_7','actor_8','actor_9','actor_10',\n",
    "                               'producer','executive']].apply(lambda x: ' '.join(x.dropna().astype(str)), axis=1)"
   ]
  },
  {
   "cell_type": "markdown",
   "metadata": {},
   "source": [
    "# Hashing Features\n",
    "We are going to create a single matrix that we can train a model on that contains all of the strings in our films."
   ]
  },
  {
   "cell_type": "code",
   "execution_count": 403,
   "metadata": {},
   "outputs": [
    {
     "data": {
      "text/plain": [
       "<2965x1100 sparse matrix of type '<class 'numpy.float64'>'\n",
       "\twith 47774 stored elements in Compressed Sparse Row format>"
      ]
     },
     "execution_count": 403,
     "metadata": {},
     "output_type": "execute_result"
    }
   ],
   "source": [
    "vectorizer = HashingVectorizer(n_features=1100)\n",
    "vector = vectorizer.transform(films['train_string'].to_numpy())\n",
    "vector"
   ]
  },
  {
   "cell_type": "markdown",
   "metadata": {},
   "source": [
    "#### Train Test split, and train on our string hashing."
   ]
  },
  {
   "cell_type": "code",
   "execution_count": 404,
   "metadata": {},
   "outputs": [
    {
     "name": "stdout",
     "output_type": "stream",
     "text": [
      "Base Model will guess: 6284064.0\n",
      "Our baseline RMSE is : 21204937\n"
     ]
    }
   ],
   "source": [
    "y = films['opening_wknd']\n",
    "X = vector\n",
    "\n",
    "dum_guess = round(films['opening_wknd'].mean())\n",
    "print(\"Base Model will guess: \"+ str(dum_guess))\n",
    "print(\"Our baseline RMSE is : \" + str(round(sqrt(mean_squared_error(y, np.full(y.shape,dum_guess))))))"
   ]
  },
  {
   "cell_type": "code",
   "execution_count": 405,
   "metadata": {},
   "outputs": [],
   "source": [
    "X_train, X_test, y_train, y_test = train_test_split(X, y, test_size=0.2, random_state=42)"
   ]
  },
  {
   "cell_type": "code",
   "execution_count": 406,
   "metadata": {},
   "outputs": [
    {
     "name": "stdout",
     "output_type": "stream",
     "text": [
      "MSE : 592690279751323.0\n",
      "RMSE: 24345231.150090218\n"
     ]
    }
   ],
   "source": [
    "lin_model = LinearRegression()\n",
    "lin_model.fit(np.nan_to_num(X_train), y_train)\n",
    "lin_preds = lin_model.predict(X_test)\n",
    "print(\"MSE : \" + str(mean_squared_error(y_test, lin_preds)))\n",
    "print(\"RMSE: \" + str(sqrt(mean_squared_error(y_test, lin_preds))))"
   ]
  },
  {
   "cell_type": "code",
   "execution_count": null,
   "metadata": {},
   "outputs": [],
   "source": [
    "rf_model = RandomForestRegressor(n_estimators=550,\n",
    "                           #max_features=3,\n",
    "                            max_depth=1000,\n",
    "                            min_samples_split=3,\n",
    "                            min_samples_leaf=5)\n",
    "rf_model.fit(X_train, y_train)\n",
    "rf_pred = rf_model.predict(X_test)\n",
    "print(\"MSE : \" + str(mean_squared_error(y_test, rf_pred)))\n",
    "print(\"RMSE: \" + str(sqrt(mean_squared_error(y_test, rf_pred))))"
   ]
  },
  {
   "cell_type": "code",
   "execution_count": 370,
   "metadata": {},
   "outputs": [
    {
     "name": "stdout",
     "output_type": "stream",
     "text": [
      "MSE : 552945350582515.7\n",
      "RMSE: 23514790.039090626\n"
     ]
    }
   ],
   "source": [
    "model_g = GradientBoostingRegressor(learning_rate=0.025,\n",
    "                                   n_estimators=430,\n",
    "                                   min_samples_leaf=4,\n",
    "                                   max_depth=1100)\n",
    "model_g.fit(X_train,y_train)\n",
    "preds_gb = model_g.predict(X_test)\n",
    "print(\"MSE : \" + str(mean_squared_error(y_test, preds_gb)))\n",
    "print(\"RMSE: \" + str(sqrt(mean_squared_error(y_test, preds_gb))))"
   ]
  },
  {
   "cell_type": "code",
   "execution_count": 282,
   "metadata": {},
   "outputs": [
    {
     "name": "stdout",
     "output_type": "stream",
     "text": [
      "MSE : 524537503686823.06\n",
      "RMSE: 22902783.754094675\n"
     ]
    }
   ],
   "source": [
    "xgb_model = xgb.XGBRegressor(n_estimators=100,\n",
    "                            max_depth=200).fit(X_train, y_train)\n",
    "xg_pred = xgb_model.predict(X_test)\n",
    "print(\"MSE : \" + str(mean_squared_error(y_test, xg_pred)))\n",
    "print(\"RMSE: \" + str(sqrt(mean_squared_error(y_test, xg_pred))))"
   ]
  },
  {
   "cell_type": "markdown",
   "metadata": {},
   "source": [
    "### Great news!\n",
    "This means that we have some signal from our string vectors. Now we will add our one-hot features, and the other data points that we discovered in our inital EDA, and see if we can improve on the model."
   ]
  },
  {
   "cell_type": "code",
   "execution_count": 25,
   "metadata": {},
   "outputs": [],
   "source": [
    "# Adding the genre OHE\n",
    "# we need to extract the inner quotes from the strings into a list.\n",
    "films['genre'] = films['genre'].map(lambda x : re.findall(r\"'(.*?)'\",x, re.DOTALL))\n",
    "#we're going to do the OHE manually\n",
    "films['action'] = films['genre'].map(lambda x : 1 if 'Action' in x else 0)\n",
    "films['adventure']  = films['genre'].map(lambda x : 1 if 'Adventure' in x else 0)\n",
    "films['animated'] = films['genre'].map(lambda x : 1 if 'Animation' in x else 0)\n",
    "films['biography'] = films['genre'].map(lambda x : 1 if 'Biography' in x else 0)\n",
    "films['drama'] = films['genre'].map(lambda x : 1 if 'Drama' in x else 0)\n",
    "films['documentary'] = films['genre'].map(lambda x : 1 if 'Documentary' in x else 0)\n",
    "films['comedy'] = films['genre'].map(lambda x : 1 if 'Comedy' in x else 0)\n",
    "films['crime'] = films['genre'].map(lambda x : 1 if 'Crime' in x else 0)\n",
    "films['fantasy'] = films['genre'].map(lambda x : 1 if 'Fantasy' in x else 0)\n",
    "films['family'] = films['genre'].map(lambda x : 1 if 'Family' in x else 0)\n",
    "films['musical'] = films['genre'].map(lambda x : 1 if 'Musical' in x else 0)\n",
    "films['horror'] = films['genre'].map(lambda x : 1 if 'Horror' in x else 0)\n",
    "films['war'] = films['genre'].map(lambda x : 1 if 'War' in x else 0)\n",
    "films['mystery'] = films['genre'].map(lambda x : 1 if 'Mystery' in x else 0)\n",
    "films['sci-fi'] = films['genre'].map(lambda x : 1 if 'Sci-Fi' in x else 0)\n",
    "films['thriller'] = films['genre'].map(lambda x : 1 if 'Thriller' in x else 0)\n",
    "films['romance'] = films['genre'].map(lambda x : 1 if 'Romance' in x else 0)"
   ]
  },
  {
   "cell_type": "code",
   "execution_count": 26,
   "metadata": {},
   "outputs": [],
   "source": [
    "#add actor popularity scores\n",
    "fake_popularity = 10071118 #instantiated as the lowest actor popularity +1\n",
    "def get_act_pop(code, fake_pop):\n",
    "    if code in act_pop_keys['actor'].unique():\n",
    "        row = act_pop_keys.loc[act_pop_keys['actor'] == code].index[0]\n",
    "        return act_pop_keys.iloc[row]['popularity']\n",
    "    else:\n",
    "        return fake_pop + randint(0,1000)\n",
    "\n",
    "act_pop_keys = pd.read_csv('../data/actor_popularity_out.csv', index_col=0)\n",
    "act_pop_keys.reset_index(inplace=True, drop=True)\n",
    "\n",
    "films['actor1_popularity'] = films['actor1'].map(lambda x : get_act_pop(x,fake_popularity))\n",
    "films['actor2_popularity'] = films['actor2'].map(lambda x : get_act_pop(x,fake_popularity))\n",
    "films['actor3_popularity'] = films['actor3'].map(lambda x : get_act_pop(x,fake_popularity))\n",
    "films['actor4_popularity'] = films['actor4'].map(lambda x : get_act_pop(x,fake_popularity))\n",
    "films['actor5_popularity'] = films['actor5'].map(lambda x : get_act_pop(x,fake_popularity))\n",
    "films['actor6_popularity'] = films['actor6'].map(lambda x : get_act_pop(x,fake_popularity))\n",
    "films['actor7_popularity'] = films['actor7'].map(lambda x : get_act_pop(x,fake_popularity))\n",
    "films['actor8_popularity'] = films['actor8'].map(lambda x : get_act_pop(x,fake_popularity))\n",
    "films['actor9_popularity'] = films['actor9'].map(lambda x : get_act_pop(x,fake_popularity))\n",
    "films['actor10_popularity'] = films['actor10'].map(lambda x : get_act_pop(x,fake_popularity))"
   ]
  },
  {
   "cell_type": "code",
   "execution_count": 27,
   "metadata": {},
   "outputs": [],
   "source": [
    "def get_celeb_class(pop):\n",
    "    if pop <=2000:\n",
    "        return 'A-list'\n",
    "    elif pop <= 5000:\n",
    "        return 'B-list'\n",
    "    elif pop <= 20000:\n",
    "        return 'C-list'\n",
    "    elif pop <= 100000:\n",
    "        return 'D-list'\n",
    "    elif pop <= 250000:\n",
    "        return 'E-list'\n",
    "    else:\n",
    "        return 'nobody'"
   ]
  },
  {
   "cell_type": "code",
   "execution_count": 28,
   "metadata": {},
   "outputs": [],
   "source": [
    "#convert popularity scores to text columns \n",
    "films['actor1_class'] = films['actor1_popularity'].map(lambda x : get_celeb_class(x))\n",
    "films['actor2_class'] = films['actor2_popularity'].map(lambda x : get_celeb_class(x))\n",
    "films['actor3_class'] = films['actor3_popularity'].map(lambda x : get_celeb_class(x))\n",
    "films['actor4_class'] = films['actor4_popularity'].map(lambda x : get_celeb_class(x))\n",
    "films['actor5_class'] = films['actor5_popularity'].map(lambda x : get_celeb_class(x))\n",
    "films['actor6_class'] = films['actor6_popularity'].map(lambda x : get_celeb_class(x))\n",
    "films['actor7_class'] = films['actor7_popularity'].map(lambda x : get_celeb_class(x))\n",
    "films['actor8_class'] = films['actor8_popularity'].map(lambda x : get_celeb_class(x))\n",
    "films['actor9_class'] = films['actor9_popularity'].map(lambda x : get_celeb_class(x))\n",
    "films['actor10_class'] = films['actor10_popularity'].map(lambda x : get_celeb_class(x))"
   ]
  },
  {
   "cell_type": "code",
   "execution_count": 29,
   "metadata": {},
   "outputs": [],
   "source": [
    "#add the normalized budget\n",
    "bud = films[['budget']].values\n",
    "min_max_scaler = preprocessing.MinMaxScaler()\n",
    "bud_scaled = min_max_scaler.fit_transform(bud)\n",
    "films['budget_normalized']=bud_scaled"
   ]
  },
  {
   "cell_type": "markdown",
   "metadata": {},
   "source": [
    "## Train new models with the full set of data"
   ]
  },
  {
   "cell_type": "markdown",
   "metadata": {},
   "source": [
    "#### We will try to filter outliers this time."
   ]
  },
  {
   "cell_type": "code",
   "execution_count": 262,
   "metadata": {},
   "outputs": [
    {
     "data": {
      "text/html": [
       "<div>\n",
       "<style scoped>\n",
       "    .dataframe tbody tr th:only-of-type {\n",
       "        vertical-align: middle;\n",
       "    }\n",
       "\n",
       "    .dataframe tbody tr th {\n",
       "        vertical-align: top;\n",
       "    }\n",
       "\n",
       "    .dataframe thead th {\n",
       "        text-align: right;\n",
       "    }\n",
       "</style>\n",
       "<table border=\"1\" class=\"dataframe\">\n",
       "  <thead>\n",
       "    <tr style=\"text-align: right;\">\n",
       "      <th></th>\n",
       "      <th>title</th>\n",
       "      <th>runtime</th>\n",
       "      <th>release_date</th>\n",
       "      <th>rating</th>\n",
       "      <th>prod_co</th>\n",
       "      <th>metaScore</th>\n",
       "      <th>metaUserScore</th>\n",
       "      <th>imdb_rating</th>\n",
       "      <th>genre</th>\n",
       "      <th>actor1</th>\n",
       "      <th>actor2</th>\n",
       "      <th>actor3</th>\n",
       "      <th>actor4</th>\n",
       "      <th>actor5</th>\n",
       "      <th>actor6</th>\n",
       "      <th>actor7</th>\n",
       "      <th>actor8</th>\n",
       "      <th>actor9</th>\n",
       "      <th>actor10</th>\n",
       "      <th>directors</th>\n",
       "      <th>writers</th>\n",
       "      <th>budget</th>\n",
       "      <th>opening_wknd</th>\n",
       "      <th>gross_dom</th>\n",
       "      <th>gross_int</th>\n",
       "      <th>title_code</th>\n",
       "      <th>production</th>\n",
       "      <th>production_2</th>\n",
       "      <th>distribution</th>\n",
       "      <th>director</th>\n",
       "      <th>actor_1</th>\n",
       "      <th>actor_2</th>\n",
       "      <th>actor_3</th>\n",
       "      <th>actor_4</th>\n",
       "      <th>actor_5</th>\n",
       "      <th>actor_6</th>\n",
       "      <th>actor_7</th>\n",
       "      <th>actor_8</th>\n",
       "      <th>actor_9</th>\n",
       "      <th>actor_10</th>\n",
       "      <th>producer</th>\n",
       "      <th>executive</th>\n",
       "      <th>release_month</th>\n",
       "      <th>release_year</th>\n",
       "      <th>train_string</th>\n",
       "      <th>action</th>\n",
       "      <th>adventure</th>\n",
       "      <th>animated</th>\n",
       "      <th>biography</th>\n",
       "      <th>drama</th>\n",
       "      <th>documentary</th>\n",
       "      <th>comedy</th>\n",
       "      <th>crime</th>\n",
       "      <th>fantasy</th>\n",
       "      <th>family</th>\n",
       "      <th>musical</th>\n",
       "      <th>horror</th>\n",
       "      <th>war</th>\n",
       "      <th>mystery</th>\n",
       "      <th>sci-fi</th>\n",
       "      <th>thriller</th>\n",
       "      <th>romance</th>\n",
       "      <th>actor1_popularity</th>\n",
       "      <th>actor2_popularity</th>\n",
       "      <th>actor3_popularity</th>\n",
       "      <th>actor4_popularity</th>\n",
       "      <th>actor5_popularity</th>\n",
       "      <th>actor6_popularity</th>\n",
       "      <th>actor7_popularity</th>\n",
       "      <th>actor8_popularity</th>\n",
       "      <th>actor9_popularity</th>\n",
       "      <th>actor10_popularity</th>\n",
       "      <th>actor1_class</th>\n",
       "      <th>actor2_class</th>\n",
       "      <th>actor3_class</th>\n",
       "      <th>actor4_class</th>\n",
       "      <th>actor5_class</th>\n",
       "      <th>actor6_class</th>\n",
       "      <th>actor7_class</th>\n",
       "      <th>actor8_class</th>\n",
       "      <th>actor9_class</th>\n",
       "      <th>actor10_class</th>\n",
       "      <th>budget_normalized</th>\n",
       "      <th>pct_profit</th>\n",
       "    </tr>\n",
       "  </thead>\n",
       "  <tbody>\n",
       "    <tr>\n",
       "      <th>1591</th>\n",
       "      <td>Mountain</td>\n",
       "      <td>0</td>\n",
       "      <td>2018-05-11</td>\n",
       "      <td>PG</td>\n",
       "      <td>[Greenwich Entertainment]</td>\n",
       "      <td>0</td>\n",
       "      <td>0</td>\n",
       "      <td>0</td>\n",
       "      <td>[Documentary]</td>\n",
       "      <td>/name/nm0000353/</td>\n",
       "      <td>NaN</td>\n",
       "      <td>NaN</td>\n",
       "      <td>NaN</td>\n",
       "      <td>NaN</td>\n",
       "      <td>NaN</td>\n",
       "      <td>NaN</td>\n",
       "      <td>NaN</td>\n",
       "      <td>NaN</td>\n",
       "      <td>NaN</td>\n",
       "      <td>[Jennifer Peedom]</td>\n",
       "      <td>['Robert Macfarlane', 'Jennifer Peedom']</td>\n",
       "      <td>6067.0</td>\n",
       "      <td>365412.0</td>\n",
       "      <td>2129889.0</td>\n",
       "      <td>NaN</td>\n",
       "      <td>tt6203570</td>\n",
       "      <td>GreenwichEntertainment</td>\n",
       "      <td>NaN</td>\n",
       "      <td>NaN</td>\n",
       "      <td>JenniferPeedom</td>\n",
       "      <td>WillemDafoe</td>\n",
       "      <td></td>\n",
       "      <td></td>\n",
       "      <td></td>\n",
       "      <td></td>\n",
       "      <td></td>\n",
       "      <td></td>\n",
       "      <td></td>\n",
       "      <td></td>\n",
       "      <td></td>\n",
       "      <td>StephenBoyle</td>\n",
       "      <td>StephenBoyle</td>\n",
       "      <td>May</td>\n",
       "      <td>2018</td>\n",
       "      <td>GreenwichEntertainment StephenBoyle StephenBoy...</td>\n",
       "      <td>0</td>\n",
       "      <td>0</td>\n",
       "      <td>0</td>\n",
       "      <td>0</td>\n",
       "      <td>0</td>\n",
       "      <td>1</td>\n",
       "      <td>0</td>\n",
       "      <td>0</td>\n",
       "      <td>0</td>\n",
       "      <td>0</td>\n",
       "      <td>0</td>\n",
       "      <td>0</td>\n",
       "      <td>0</td>\n",
       "      <td>0</td>\n",
       "      <td>0</td>\n",
       "      <td>0</td>\n",
       "      <td>0</td>\n",
       "      <td>1080</td>\n",
       "      <td>10071448</td>\n",
       "      <td>10071999</td>\n",
       "      <td>10071195</td>\n",
       "      <td>10071734</td>\n",
       "      <td>10071747</td>\n",
       "      <td>10071154</td>\n",
       "      <td>10071678</td>\n",
       "      <td>10071388</td>\n",
       "      <td>10071984</td>\n",
       "      <td>A-list</td>\n",
       "      <td>nobody</td>\n",
       "      <td>nobody</td>\n",
       "      <td>nobody</td>\n",
       "      <td>nobody</td>\n",
       "      <td>nobody</td>\n",
       "      <td>nobody</td>\n",
       "      <td>nobody</td>\n",
       "      <td>nobody</td>\n",
       "      <td>nobody</td>\n",
       "      <td>0.000017</td>\n",
       "      <td>60.229438</td>\n",
       "    </tr>\n",
       "  </tbody>\n",
       "</table>\n",
       "</div>"
      ],
      "text/plain": [
       "         title  runtime release_date rating                    prod_co  \\\n",
       "1591  Mountain        0   2018-05-11     PG  [Greenwich Entertainment]   \n",
       "\n",
       "      metaScore  metaUserScore  imdb_rating          genre            actor1  \\\n",
       "1591          0              0            0  [Documentary]  /name/nm0000353/   \n",
       "\n",
       "     actor2 actor3 actor4 actor5 actor6 actor7 actor8 actor9 actor10  \\\n",
       "1591    NaN    NaN    NaN    NaN    NaN    NaN    NaN    NaN     NaN   \n",
       "\n",
       "              directors                                   writers  budget  \\\n",
       "1591  [Jennifer Peedom]  ['Robert Macfarlane', 'Jennifer Peedom']  6067.0   \n",
       "\n",
       "      opening_wknd  gross_dom  gross_int title_code              production  \\\n",
       "1591      365412.0  2129889.0        NaN  tt6203570  GreenwichEntertainment   \n",
       "\n",
       "     production_2 distribution        director      actor_1 actor_2 actor_3  \\\n",
       "1591          NaN          NaN  JenniferPeedom  WillemDafoe                   \n",
       "\n",
       "     actor_4 actor_5 actor_6 actor_7 actor_8 actor_9 actor_10      producer  \\\n",
       "1591                                                           StephenBoyle   \n",
       "\n",
       "         executive release_month release_year  \\\n",
       "1591  StephenBoyle           May         2018   \n",
       "\n",
       "                                           train_string  action  adventure  \\\n",
       "1591  GreenwichEntertainment StephenBoyle StephenBoy...       0          0   \n",
       "\n",
       "      animated  biography  drama  documentary  comedy  crime  fantasy  family  \\\n",
       "1591         0          0      0            1       0      0        0       0   \n",
       "\n",
       "      musical  horror  war  mystery  sci-fi  thriller  romance  \\\n",
       "1591        0       0    0        0       0         0        0   \n",
       "\n",
       "      actor1_popularity  actor2_popularity  actor3_popularity  \\\n",
       "1591               1080           10071448           10071999   \n",
       "\n",
       "      actor4_popularity  actor5_popularity  actor6_popularity  \\\n",
       "1591           10071195           10071734           10071747   \n",
       "\n",
       "      actor7_popularity  actor8_popularity  actor9_popularity  \\\n",
       "1591           10071154           10071678           10071388   \n",
       "\n",
       "      actor10_popularity actor1_class actor2_class actor3_class actor4_class  \\\n",
       "1591            10071984       A-list       nobody       nobody       nobody   \n",
       "\n",
       "     actor5_class actor6_class actor7_class actor8_class actor9_class  \\\n",
       "1591       nobody       nobody       nobody       nobody       nobody   \n",
       "\n",
       "     actor10_class  budget_normalized  pct_profit  \n",
       "1591        nobody           0.000017   60.229438  "
      ]
     },
     "execution_count": 262,
     "metadata": {},
     "output_type": "execute_result"
    }
   ],
   "source": [
    "#*******this block filters by zscore*********\n",
    "# film_zscore = zscore(films.opening_wknd.to_numpy())\n",
    "# abs_film_zscore = np.abs(film_zscore)\n",
    "# filtered_entries = (abs_film_zscore < 3)\n",
    "# filtered_df = films[filtered_entries].reset_index(drop=True)\n",
    "\n",
    "#*******this filters by highest box office**********\n",
    "filtered_df = films[films.opening_wknd < films.opening_wknd.quantile(.98)].reset_index(drop=True)\n",
    "\n",
    "#******this filters by largest and smallest box office to budget ratio**********\n",
    "films['pct_profit'] = films['opening_wknd'] / films['budget']\n",
    "take = .98\n",
    "filtered_df = films[films['pct_profit'] < films.pct_profit.quantile(take)]\n",
    "filtered_df = films[films['pct_profit'] > films.pct_profit.quantile(1-take)].reset_index(drop=True)\n",
    "\n",
    "filtered_df.sample(1)"
   ]
  },
  {
   "cell_type": "code",
   "execution_count": 243,
   "metadata": {},
   "outputs": [
    {
     "data": {
      "text/html": [
       "<div>\n",
       "<style scoped>\n",
       "    .dataframe tbody tr th:only-of-type {\n",
       "        vertical-align: middle;\n",
       "    }\n",
       "\n",
       "    .dataframe tbody tr th {\n",
       "        vertical-align: top;\n",
       "    }\n",
       "\n",
       "    .dataframe thead th {\n",
       "        text-align: right;\n",
       "    }\n",
       "</style>\n",
       "<table border=\"1\" class=\"dataframe\">\n",
       "  <thead>\n",
       "    <tr style=\"text-align: right;\">\n",
       "      <th></th>\n",
       "      <th>release_month_April</th>\n",
       "      <th>release_month_August</th>\n",
       "      <th>release_month_December</th>\n",
       "      <th>release_month_February</th>\n",
       "      <th>release_month_January</th>\n",
       "      <th>release_month_July</th>\n",
       "      <th>release_month_June</th>\n",
       "      <th>release_month_March</th>\n",
       "      <th>release_month_May</th>\n",
       "      <th>release_month_November</th>\n",
       "      <th>release_month_October</th>\n",
       "      <th>release_month_September</th>\n",
       "      <th>release_month_unknown</th>\n",
       "      <th>actor1_class_A-list</th>\n",
       "      <th>actor1_class_B-list</th>\n",
       "      <th>actor1_class_C-list</th>\n",
       "      <th>actor1_class_D-list</th>\n",
       "      <th>actor1_class_E-list</th>\n",
       "      <th>actor1_class_nobody</th>\n",
       "      <th>actor2_class_A-list</th>\n",
       "      <th>actor2_class_B-list</th>\n",
       "      <th>actor2_class_C-list</th>\n",
       "      <th>actor2_class_D-list</th>\n",
       "      <th>actor2_class_E-list</th>\n",
       "      <th>actor2_class_nobody</th>\n",
       "      <th>actor3_class_A-list</th>\n",
       "      <th>actor3_class_B-list</th>\n",
       "      <th>actor3_class_C-list</th>\n",
       "      <th>actor3_class_D-list</th>\n",
       "      <th>actor3_class_E-list</th>\n",
       "      <th>actor3_class_nobody</th>\n",
       "      <th>rating_Approved</th>\n",
       "      <th>rating_G</th>\n",
       "      <th>rating_M</th>\n",
       "      <th>rating_NC-17</th>\n",
       "      <th>rating_Not Rated</th>\n",
       "      <th>rating_PG</th>\n",
       "      <th>rating_PG-13</th>\n",
       "      <th>rating_R</th>\n",
       "      <th>rating_TV-14</th>\n",
       "      <th>rating_TV-G</th>\n",
       "      <th>rating_TV-MA</th>\n",
       "      <th>rating_TV-PG</th>\n",
       "      <th>rating_Unrated</th>\n",
       "    </tr>\n",
       "  </thead>\n",
       "  <tbody>\n",
       "    <tr>\n",
       "      <th>0</th>\n",
       "      <td>0</td>\n",
       "      <td>0</td>\n",
       "      <td>0</td>\n",
       "      <td>0</td>\n",
       "      <td>0</td>\n",
       "      <td>0</td>\n",
       "      <td>0</td>\n",
       "      <td>0</td>\n",
       "      <td>0</td>\n",
       "      <td>1</td>\n",
       "      <td>0</td>\n",
       "      <td>0</td>\n",
       "      <td>0</td>\n",
       "      <td>1</td>\n",
       "      <td>0</td>\n",
       "      <td>0</td>\n",
       "      <td>0</td>\n",
       "      <td>0</td>\n",
       "      <td>0</td>\n",
       "      <td>1</td>\n",
       "      <td>0</td>\n",
       "      <td>0</td>\n",
       "      <td>0</td>\n",
       "      <td>0</td>\n",
       "      <td>0</td>\n",
       "      <td>1</td>\n",
       "      <td>0</td>\n",
       "      <td>0</td>\n",
       "      <td>0</td>\n",
       "      <td>0</td>\n",
       "      <td>0</td>\n",
       "      <td>0</td>\n",
       "      <td>0</td>\n",
       "      <td>0</td>\n",
       "      <td>0</td>\n",
       "      <td>0</td>\n",
       "      <td>0</td>\n",
       "      <td>0</td>\n",
       "      <td>1</td>\n",
       "      <td>0</td>\n",
       "      <td>0</td>\n",
       "      <td>0</td>\n",
       "      <td>0</td>\n",
       "      <td>0</td>\n",
       "    </tr>\n",
       "  </tbody>\n",
       "</table>\n",
       "</div>"
      ],
      "text/plain": [
       "   release_month_April  release_month_August  release_month_December  \\\n",
       "0                    0                     0                       0   \n",
       "\n",
       "   release_month_February  release_month_January  release_month_July  \\\n",
       "0                       0                      0                   0   \n",
       "\n",
       "   release_month_June  release_month_March  release_month_May  \\\n",
       "0                   0                    0                  0   \n",
       "\n",
       "   release_month_November  release_month_October  release_month_September  \\\n",
       "0                       1                      0                        0   \n",
       "\n",
       "   release_month_unknown  actor1_class_A-list  actor1_class_B-list  \\\n",
       "0                      0                    1                    0   \n",
       "\n",
       "   actor1_class_C-list  actor1_class_D-list  actor1_class_E-list  \\\n",
       "0                    0                    0                    0   \n",
       "\n",
       "   actor1_class_nobody  actor2_class_A-list  actor2_class_B-list  \\\n",
       "0                    0                    1                    0   \n",
       "\n",
       "   actor2_class_C-list  actor2_class_D-list  actor2_class_E-list  \\\n",
       "0                    0                    0                    0   \n",
       "\n",
       "   actor2_class_nobody  actor3_class_A-list  actor3_class_B-list  \\\n",
       "0                    0                    1                    0   \n",
       "\n",
       "   actor3_class_C-list  actor3_class_D-list  actor3_class_E-list  \\\n",
       "0                    0                    0                    0   \n",
       "\n",
       "   actor3_class_nobody  rating_Approved  rating_G  rating_M  rating_NC-17  \\\n",
       "0                    0                0         0         0             0   \n",
       "\n",
       "   rating_Not Rated  rating_PG  rating_PG-13  rating_R  rating_TV-14  \\\n",
       "0                 0          0             0         1             0   \n",
       "\n",
       "   rating_TV-G  rating_TV-MA  rating_TV-PG  rating_Unrated  \n",
       "0            0             0             0               0  "
      ]
     },
     "execution_count": 243,
     "metadata": {},
     "output_type": "execute_result"
    }
   ],
   "source": [
    "#make dummies from our curated columns\n",
    "dum = pd.get_dummies(filtered_df[['release_month', 'actor1_class', 'actor2_class', 'actor3_class','rating']]) #'actor1_class', 'actor2_class', 'actor3_class',\n",
    "dum.head(1)"
   ]
  },
  {
   "cell_type": "code",
   "execution_count": 244,
   "metadata": {},
   "outputs": [
    {
     "data": {
      "text/html": [
       "<div>\n",
       "<style scoped>\n",
       "    .dataframe tbody tr th:only-of-type {\n",
       "        vertical-align: middle;\n",
       "    }\n",
       "\n",
       "    .dataframe tbody tr th {\n",
       "        vertical-align: top;\n",
       "    }\n",
       "\n",
       "    .dataframe thead th {\n",
       "        text-align: right;\n",
       "    }\n",
       "</style>\n",
       "<table border=\"1\" class=\"dataframe\">\n",
       "  <thead>\n",
       "    <tr style=\"text-align: right;\">\n",
       "      <th></th>\n",
       "      <th>budget</th>\n",
       "      <th>action</th>\n",
       "      <th>adventure</th>\n",
       "      <th>animated</th>\n",
       "      <th>biography</th>\n",
       "      <th>drama</th>\n",
       "      <th>documentary</th>\n",
       "      <th>comedy</th>\n",
       "      <th>crime</th>\n",
       "      <th>fantasy</th>\n",
       "      <th>family</th>\n",
       "      <th>musical</th>\n",
       "      <th>horror</th>\n",
       "      <th>war</th>\n",
       "      <th>mystery</th>\n",
       "      <th>sci-fi</th>\n",
       "      <th>thriller</th>\n",
       "      <th>romance</th>\n",
       "    </tr>\n",
       "  </thead>\n",
       "  <tbody>\n",
       "    <tr>\n",
       "      <th>2712</th>\n",
       "      <td>24524.0</td>\n",
       "      <td>0</td>\n",
       "      <td>0</td>\n",
       "      <td>1</td>\n",
       "      <td>1</td>\n",
       "      <td>1</td>\n",
       "      <td>0</td>\n",
       "      <td>0</td>\n",
       "      <td>0</td>\n",
       "      <td>0</td>\n",
       "      <td>0</td>\n",
       "      <td>0</td>\n",
       "      <td>0</td>\n",
       "      <td>0</td>\n",
       "      <td>0</td>\n",
       "      <td>0</td>\n",
       "      <td>0</td>\n",
       "      <td>0</td>\n",
       "    </tr>\n",
       "  </tbody>\n",
       "</table>\n",
       "</div>"
      ],
      "text/plain": [
       "       budget  action  adventure  animated  biography  drama  documentary  \\\n",
       "2712  24524.0       0          0         1          1      1            0   \n",
       "\n",
       "      comedy  crime  fantasy  family  musical  horror  war  mystery  sci-fi  \\\n",
       "2712       0      0        0       0        0       0    0        0       0   \n",
       "\n",
       "      thriller  romance  \n",
       "2712         0        0  "
      ]
     },
     "execution_count": 244,
     "metadata": {},
     "output_type": "execute_result"
    }
   ],
   "source": [
    "#pull the columns we want from the main DF\n",
    "use_cols = filtered_df[['budget','action','adventure','animated','biography','drama','documentary','comedy','crime',\n",
    "                        'fantasy','family','musical','horror','war','mystery','sci-fi','thriller','romance']]\n",
    "                        #actor1_popularity', 'actor2_popularity', 'actor3_popularity', 'actor4_popularity']]\n",
    "use_cols.sample(1)"
   ]
  },
  {
   "cell_type": "code",
   "execution_count": 245,
   "metadata": {},
   "outputs": [
    {
     "data": {
      "text/html": [
       "<div>\n",
       "<style scoped>\n",
       "    .dataframe tbody tr th:only-of-type {\n",
       "        vertical-align: middle;\n",
       "    }\n",
       "\n",
       "    .dataframe tbody tr th {\n",
       "        vertical-align: top;\n",
       "    }\n",
       "\n",
       "    .dataframe thead th {\n",
       "        text-align: right;\n",
       "    }\n",
       "</style>\n",
       "<table border=\"1\" class=\"dataframe\">\n",
       "  <thead>\n",
       "    <tr style=\"text-align: right;\">\n",
       "      <th></th>\n",
       "      <th>0</th>\n",
       "      <th>1</th>\n",
       "      <th>2</th>\n",
       "      <th>3</th>\n",
       "      <th>4</th>\n",
       "      <th>5</th>\n",
       "      <th>6</th>\n",
       "      <th>7</th>\n",
       "      <th>8</th>\n",
       "      <th>9</th>\n",
       "    </tr>\n",
       "  </thead>\n",
       "  <tbody>\n",
       "    <tr>\n",
       "      <th>349</th>\n",
       "      <td>0.707107</td>\n",
       "      <td>-0.5547</td>\n",
       "      <td>0.0</td>\n",
       "      <td>-0.353553</td>\n",
       "      <td>0.0</td>\n",
       "      <td>-0.353553</td>\n",
       "      <td>0.0</td>\n",
       "      <td>0.0</td>\n",
       "      <td>-0.301511</td>\n",
       "      <td>0.0</td>\n",
       "    </tr>\n",
       "  </tbody>\n",
       "</table>\n",
       "</div>"
      ],
      "text/plain": [
       "            0       1    2         3    4         5    6    7         8    9\n",
       "349  0.707107 -0.5547  0.0 -0.353553  0.0 -0.353553  0.0  0.0 -0.301511  0.0"
      ]
     },
     "execution_count": 245,
     "metadata": {},
     "output_type": "execute_result"
    }
   ],
   "source": [
    "vectorizer = HashingVectorizer(n_features=10)\n",
    "vector = vectorizer.fit_transform(filtered_df['train_string'].to_numpy())\n",
    "vec_df = pd.DataFrame.sparse.from_spmatrix(vector)\n",
    "vec_df.sample(1)"
   ]
  },
  {
   "cell_type": "code",
   "execution_count": 246,
   "metadata": {},
   "outputs": [
    {
     "name": "stdout",
     "output_type": "stream",
     "text": [
      "Base Model will guess: 6284064.0\n",
      "Our baseline RMSE is : 21403810\n"
     ]
    }
   ],
   "source": [
    "y = filtered_df['opening_wknd']\n",
    "X = pd.concat([use_cols, dum, vec_df], axis=1, sort=False)\n",
    "X.shape, y.shape\n",
    "\n",
    "dum_guess = round(films['opening_wknd'].mean())\n",
    "print(\"Base Model will guess: \"+ str(dum_guess))\n",
    "print(\"Our baseline RMSE is : \" + str(round(sqrt(mean_squared_error(y, np.full(y.shape,dum_guess))))))"
   ]
  },
  {
   "cell_type": "code",
   "execution_count": 247,
   "metadata": {},
   "outputs": [
    {
     "data": {
      "text/plain": [
       "(2614, 72)"
      ]
     },
     "execution_count": 247,
     "metadata": {},
     "output_type": "execute_result"
    }
   ],
   "source": [
    "X_train, X_test, y_train, y_test = train_test_split(X, y, test_size=0.1, random_state=42)\n",
    "X_train.shape"
   ]
  },
  {
   "cell_type": "code",
   "execution_count": 248,
   "metadata": {},
   "outputs": [
    {
     "name": "stdout",
     "output_type": "stream",
     "text": [
      "MSE : 293713003172706.5\n",
      "RMSE: 17138057.158636928\n"
     ]
    }
   ],
   "source": [
    "lin_model = LinearRegression()\n",
    "lin_model.fit(X_train, y_train)\n",
    "lin_preds = lin_model.predict(X_test)\n",
    "print(\"MSE : \" + str(mean_squared_error(y_test, lin_preds)))\n",
    "print(\"RMSE: \" + str(sqrt(mean_squared_error(y_test, lin_preds))))"
   ]
  },
  {
   "cell_type": "code",
   "execution_count": 249,
   "metadata": {},
   "outputs": [
    {
     "name": "stdout",
     "output_type": "stream",
     "text": [
      "MSE : 326306211567632.06\n",
      "RMSE: 18063947.840038512\n"
     ]
    }
   ],
   "source": [
    "rf_model = RandomForestRegressor(n_estimators=50,\n",
    "                           #max_features=3,\n",
    "                            max_depth=1000,\n",
    "                           #random_state=0,\n",
    "                            min_samples_split=6,\n",
    "                            min_samples_leaf=8)\n",
    "rf_model.fit(X_train, y_train)\n",
    "rf_pred = rf_model.predict(X_test)\n",
    "print(\"MSE : \" + str(mean_squared_error(y_test, rf_pred)))\n",
    "print(\"RMSE: \" + str(sqrt(mean_squared_error(y_test, rf_pred))))"
   ]
  },
  {
   "cell_type": "code",
   "execution_count": 250,
   "metadata": {},
   "outputs": [
    {
     "name": "stdout",
     "output_type": "stream",
     "text": [
      "MSE : 345118242905639.94\n",
      "RMSE: 18577358.34034645\n"
     ]
    }
   ],
   "source": [
    "model_g = GradientBoostingRegressor(learning_rate=0.02,\n",
    "                                   n_estimators=200,\n",
    "                                   min_samples_leaf=15,\n",
    "                                   max_depth=400)\n",
    "model_g.fit(X_train,y_train)\n",
    "preds_gb = model_g.predict(X_test)\n",
    "print(\"MSE : \" + str(mean_squared_error(y_test, preds_gb)))\n",
    "print(\"RMSE: \" + str(sqrt(mean_squared_error(y_test, preds_gb))))"
   ]
  },
  {
   "cell_type": "code",
   "execution_count": 251,
   "metadata": {},
   "outputs": [
    {
     "name": "stdout",
     "output_type": "stream",
     "text": [
      "MSE : 249184325303548.38\n",
      "RMSE: 15785573.32831305\n"
     ]
    }
   ],
   "source": [
    "xgb_model = xgb.XGBRegressor(n_estimators=230,\n",
    "                            max_depth=1000).fit(X_train, y_train)\n",
    "xg_pred = xgb_model.predict(X_test)\n",
    "print(\"MSE : \" + str(mean_squared_error(y_test, xg_pred)))\n",
    "print(\"RMSE: \" + str(sqrt(mean_squared_error(y_test, xg_pred))))"
   ]
  },
  {
   "cell_type": "markdown",
   "metadata": {},
   "source": [
    "### Grid Search for best params"
   ]
  },
  {
   "cell_type": "code",
   "execution_count": null,
   "metadata": {},
   "outputs": [
    {
     "name": "stdout",
     "output_type": "stream",
     "text": [
      "Fitting 5 folds for each of 720 candidates, totalling 3600 fits\n"
     ]
    },
    {
     "name": "stderr",
     "output_type": "stream",
     "text": [
      "[Parallel(n_jobs=-1)]: Using backend LokyBackend with 8 concurrent workers.\n",
      "[Parallel(n_jobs=-1)]: Done  25 tasks      | elapsed:  7.6min\n",
      "[Parallel(n_jobs=-1)]: Done 146 tasks      | elapsed: 30.2min\n",
      "[Parallel(n_jobs=-1)]: Done 349 tasks      | elapsed: 73.5min\n",
      "[Parallel(n_jobs=-1)]: Done 632 tasks      | elapsed: 125.1min\n"
     ]
    }
   ],
   "source": [
    "#gradient boost searching\n",
    "clf = GridSearchCV(model_g,\n",
    "                   {'max_depth': [200, 400, 600,1000,1500,2000],\n",
    "                    'n_estimators': [50, 100, 200,300,400,500],\n",
    "                   'min_samples_leaf':[4,8,10,15,18],\n",
    "                   'learning_rate':[0.005,0.01,0.02,0.3]}, verbose=2, n_jobs=-1)\n",
    "clf.fit(X, y)\n",
    "print(clf.best_score_)\n",
    "print(clf.best_params_)"
   ]
  },
  {
   "cell_type": "code",
   "execution_count": 234,
   "metadata": {},
   "outputs": [
    {
     "name": "stdout",
     "output_type": "stream",
     "text": [
      "Fitting 5 folds for each of 1470 candidates, totalling 7350 fits\n"
     ]
    },
    {
     "name": "stderr",
     "output_type": "stream",
     "text": [
      "[Parallel(n_jobs=-1)]: Using backend LokyBackend with 8 concurrent workers.\n",
      "[Parallel(n_jobs=-1)]: Done  16 tasks      | elapsed:   13.5s\n",
      "[Parallel(n_jobs=-1)]: Done 112 tasks      | elapsed:  1.5min\n",
      "[Parallel(n_jobs=-1)]: Done 272 tasks      | elapsed:  3.4min\n",
      "[Parallel(n_jobs=-1)]: Done 496 tasks      | elapsed:  6.0min\n",
      "[Parallel(n_jobs=-1)]: Done 784 tasks      | elapsed:  9.0min\n",
      "[Parallel(n_jobs=-1)]: Done 1136 tasks      | elapsed: 12.8min\n",
      "[Parallel(n_jobs=-1)]: Done 1552 tasks      | elapsed: 17.9min\n",
      "[Parallel(n_jobs=-1)]: Done 2032 tasks      | elapsed: 22.9min\n",
      "[Parallel(n_jobs=-1)]: Done 2576 tasks      | elapsed: 29.6min\n",
      "[Parallel(n_jobs=-1)]: Done 3184 tasks      | elapsed: 35.5min\n",
      "[Parallel(n_jobs=-1)]: Done 3856 tasks      | elapsed: 42.6min\n",
      "[Parallel(n_jobs=-1)]: Done 4592 tasks      | elapsed: 50.0min\n",
      "[Parallel(n_jobs=-1)]: Done 5392 tasks      | elapsed: 57.8min\n",
      "[Parallel(n_jobs=-1)]: Done 6256 tasks      | elapsed: 66.1min\n",
      "[Parallel(n_jobs=-1)]: Done 7184 tasks      | elapsed: 75.5min\n",
      "[Parallel(n_jobs=-1)]: Done 7350 out of 7350 | elapsed: 76.9min finished\n"
     ]
    },
    {
     "name": "stdout",
     "output_type": "stream",
     "text": [
      "0.5278523053836944\n",
      "{'max_depth': 1000, 'min_samples_leaf': 8, 'min_samples_split': 6, 'n_estimators': 50}\n"
     ]
    }
   ],
   "source": [
    "clf = GridSearchCV(rf_model,\n",
    "                   {'max_depth': [200, 400, 600,1000,1500,2000,3000],\n",
    "                    'n_estimators': [50, 100, 200,300,400,500],\n",
    "                   'min_samples_leaf':[4,8,10,15,18],\n",
    "                   'min_samples_split':[3,6,10,12,15,18,20]}, verbose=3, n_jobs=-1)\n",
    "clf.fit(X, y)\n",
    "print(clf.best_score_)\n",
    "print(clf.best_params_)"
   ]
  }
 ],
 "metadata": {
  "kernelspec": {
   "display_name": "Python 3",
   "language": "python",
   "name": "python3"
  },
  "language_info": {
   "codemirror_mode": {
    "name": "ipython",
    "version": 3
   },
   "file_extension": ".py",
   "mimetype": "text/x-python",
   "name": "python",
   "nbconvert_exporter": "python",
   "pygments_lexer": "ipython3",
   "version": "3.6.5"
  }
 },
 "nbformat": 4,
 "nbformat_minor": 4
}
