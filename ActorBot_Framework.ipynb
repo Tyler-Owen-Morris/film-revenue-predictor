{
 "cells": [
  {
   "cell_type": "code",
   "execution_count": 30,
   "metadata": {},
   "outputs": [],
   "source": [
    "import requests\n",
    "import pandas as pd\n",
    "import numpy as np\n",
    "import json\n",
    "import time\n",
    "from bs4 import BeautifulSoup\n",
    "import warnings\n",
    "warnings.filterwarnings('ignore')"
   ]
  },
  {
   "cell_type": "code",
   "execution_count": 12,
   "metadata": {},
   "outputs": [
    {
     "data": {
      "text/html": [
       "<div>\n",
       "<style scoped>\n",
       "    .dataframe tbody tr th:only-of-type {\n",
       "        vertical-align: middle;\n",
       "    }\n",
       "\n",
       "    .dataframe tbody tr th {\n",
       "        vertical-align: top;\n",
       "    }\n",
       "\n",
       "    .dataframe thead th {\n",
       "        text-align: right;\n",
       "    }\n",
       "</style>\n",
       "<table border=\"1\" class=\"dataframe\">\n",
       "  <thead>\n",
       "    <tr style=\"text-align: right;\">\n",
       "      <th></th>\n",
       "      <th>Unnamed: 0</th>\n",
       "      <th>title_code</th>\n",
       "      <th>title</th>\n",
       "      <th>runtime</th>\n",
       "      <th>release_date</th>\n",
       "      <th>rating</th>\n",
       "      <th>prod_co</th>\n",
       "      <th>metaScore</th>\n",
       "      <th>metaUserScore</th>\n",
       "      <th>imdb_rating</th>\n",
       "      <th>...</th>\n",
       "      <th>actor7</th>\n",
       "      <th>actor8</th>\n",
       "      <th>actor9</th>\n",
       "      <th>actor10</th>\n",
       "      <th>directors</th>\n",
       "      <th>writers</th>\n",
       "      <th>budget</th>\n",
       "      <th>opening_wknd</th>\n",
       "      <th>gross_dom</th>\n",
       "      <th>gross_int</th>\n",
       "    </tr>\n",
       "  </thead>\n",
       "  <tbody>\n",
       "    <tr>\n",
       "      <th>0</th>\n",
       "      <td>0</td>\n",
       "      <td>tt0079302</td>\n",
       "      <td>Home Movies</td>\n",
       "      <td>0</td>\n",
       "      <td>1980-05-16</td>\n",
       "      <td>PG</td>\n",
       "      <td>['SLC', 'United Artists Classics']</td>\n",
       "      <td>0</td>\n",
       "      <td>0</td>\n",
       "      <td>0</td>\n",
       "      <td>...</td>\n",
       "      <td>/name/nm0876808/</td>\n",
       "      <td>/name/nm0353614/</td>\n",
       "      <td>/name/nm0757854/</td>\n",
       "      <td>/name/nm0096431/</td>\n",
       "      <td>['Brian De Palma']</td>\n",
       "      <td>['Kim Ambler', 'Brian De Palma', 'Dana Edelman...</td>\n",
       "      <td>400000.0</td>\n",
       "      <td>89134.0</td>\n",
       "      <td>89134.0</td>\n",
       "      <td>NaN</td>\n",
       "    </tr>\n",
       "    <tr>\n",
       "      <th>1</th>\n",
       "      <td>0</td>\n",
       "      <td>tt0276132</td>\n",
       "      <td>The Fetishist</td>\n",
       "      <td>0</td>\n",
       "      <td>2019-09-24</td>\n",
       "      <td>NaN</td>\n",
       "      <td>[]</td>\n",
       "      <td>0</td>\n",
       "      <td>0</td>\n",
       "      <td>0</td>\n",
       "      <td>...</td>\n",
       "      <td>NaN</td>\n",
       "      <td>NaN</td>\n",
       "      <td>NaN</td>\n",
       "      <td>NaN</td>\n",
       "      <td>['Jim Trainor']</td>\n",
       "      <td>[]</td>\n",
       "      <td>NaN</td>\n",
       "      <td>NaN</td>\n",
       "      <td>NaN</td>\n",
       "      <td>NaN</td>\n",
       "    </tr>\n",
       "    <tr>\n",
       "      <th>2</th>\n",
       "      <td>0</td>\n",
       "      <td>tt0279481</td>\n",
       "      <td>Travel Daze</td>\n",
       "      <td>0</td>\n",
       "      <td>2019-05-31</td>\n",
       "      <td>NaN</td>\n",
       "      <td>['Circa 1964']</td>\n",
       "      <td>0</td>\n",
       "      <td>0</td>\n",
       "      <td>0</td>\n",
       "      <td>...</td>\n",
       "      <td>NaN</td>\n",
       "      <td>NaN</td>\n",
       "      <td>NaN</td>\n",
       "      <td>NaN</td>\n",
       "      <td>['Michael Possert Jr.']</td>\n",
       "      <td>['Michael Possert Jr.']</td>\n",
       "      <td>NaN</td>\n",
       "      <td>NaN</td>\n",
       "      <td>NaN</td>\n",
       "      <td>NaN</td>\n",
       "    </tr>\n",
       "    <tr>\n",
       "      <th>3</th>\n",
       "      <td>0</td>\n",
       "      <td>tt0441881</td>\n",
       "      <td>Danger Close</td>\n",
       "      <td>0</td>\n",
       "      <td>2019-11-08</td>\n",
       "      <td>R</td>\n",
       "      <td>['Deeper Water', 'Saboteur Media', 'Saban Films']</td>\n",
       "      <td>0</td>\n",
       "      <td>0</td>\n",
       "      <td>0</td>\n",
       "      <td>...</td>\n",
       "      <td>/name/nm3478396/</td>\n",
       "      <td>/name/nm7011217/</td>\n",
       "      <td>/name/nm2828232/</td>\n",
       "      <td>/name/nm7202582/</td>\n",
       "      <td>['Kriv Stenders']</td>\n",
       "      <td>['Stuart Beattie', 'James Nicholas', 'Karel Se...</td>\n",
       "      <td>35000000.0</td>\n",
       "      <td>2078370.0</td>\n",
       "      <td>NaN</td>\n",
       "      <td>NaN</td>\n",
       "    </tr>\n",
       "    <tr>\n",
       "      <th>4</th>\n",
       "      <td>0</td>\n",
       "      <td>tt0800325</td>\n",
       "      <td>The Dirt</td>\n",
       "      <td>0</td>\n",
       "      <td>2019-03-22</td>\n",
       "      <td>TV-MA</td>\n",
       "      <td>['10th Street Entertainment', 'Netflix']</td>\n",
       "      <td>0</td>\n",
       "      <td>0</td>\n",
       "      <td>0</td>\n",
       "      <td>...</td>\n",
       "      <td>/name/nm9923628/</td>\n",
       "      <td>/name/nm3571490/</td>\n",
       "      <td>/name/nm6778538/</td>\n",
       "      <td>/name/nm4054025/</td>\n",
       "      <td>['Jeff Tremaine']</td>\n",
       "      <td>['Amanda Adelson', 'Tommy Lee', 'Mick Mars', '...</td>\n",
       "      <td>NaN</td>\n",
       "      <td>NaN</td>\n",
       "      <td>NaN</td>\n",
       "      <td>NaN</td>\n",
       "    </tr>\n",
       "  </tbody>\n",
       "</table>\n",
       "<p>5 rows × 27 columns</p>\n",
       "</div>"
      ],
      "text/plain": [
       "   Unnamed: 0 title_code          title  runtime release_date rating  \\\n",
       "0           0  tt0079302    Home Movies        0   1980-05-16     PG   \n",
       "1           0  tt0276132  The Fetishist        0   2019-09-24    NaN   \n",
       "2           0  tt0279481    Travel Daze        0   2019-05-31    NaN   \n",
       "3           0  tt0441881   Danger Close        0   2019-11-08      R   \n",
       "4           0  tt0800325       The Dirt        0   2019-03-22  TV-MA   \n",
       "\n",
       "                                             prod_co  metaScore  \\\n",
       "0                 ['SLC', 'United Artists Classics']          0   \n",
       "1                                                 []          0   \n",
       "2                                     ['Circa 1964']          0   \n",
       "3  ['Deeper Water', 'Saboteur Media', 'Saban Films']          0   \n",
       "4           ['10th Street Entertainment', 'Netflix']          0   \n",
       "\n",
       "   metaUserScore  imdb_rating  ...            actor7            actor8  \\\n",
       "0              0            0  ...  /name/nm0876808/  /name/nm0353614/   \n",
       "1              0            0  ...               NaN               NaN   \n",
       "2              0            0  ...               NaN               NaN   \n",
       "3              0            0  ...  /name/nm3478396/  /name/nm7011217/   \n",
       "4              0            0  ...  /name/nm9923628/  /name/nm3571490/   \n",
       "\n",
       "             actor9           actor10                directors  \\\n",
       "0  /name/nm0757854/  /name/nm0096431/       ['Brian De Palma']   \n",
       "1               NaN               NaN          ['Jim Trainor']   \n",
       "2               NaN               NaN  ['Michael Possert Jr.']   \n",
       "3  /name/nm2828232/  /name/nm7202582/        ['Kriv Stenders']   \n",
       "4  /name/nm6778538/  /name/nm4054025/        ['Jeff Tremaine']   \n",
       "\n",
       "                                             writers      budget opening_wknd  \\\n",
       "0  ['Kim Ambler', 'Brian De Palma', 'Dana Edelman...    400000.0      89134.0   \n",
       "1                                                 []         NaN          NaN   \n",
       "2                            ['Michael Possert Jr.']         NaN          NaN   \n",
       "3  ['Stuart Beattie', 'James Nicholas', 'Karel Se...  35000000.0    2078370.0   \n",
       "4  ['Amanda Adelson', 'Tommy Lee', 'Mick Mars', '...         NaN          NaN   \n",
       "\n",
       "  gross_dom gross_int  \n",
       "0   89134.0       NaN  \n",
       "1       NaN       NaN  \n",
       "2       NaN       NaN  \n",
       "3       NaN       NaN  \n",
       "4       NaN       NaN  \n",
       "\n",
       "[5 rows x 27 columns]"
      ]
     },
     "execution_count": 12,
     "metadata": {},
     "output_type": "execute_result"
    }
   ],
   "source": [
    "film_df = pd.read_csv('data/IMDB_mine_data_2019.csv')\n",
    "film_df.head()"
   ]
  },
  {
   "cell_type": "code",
   "execution_count": 18,
   "metadata": {},
   "outputs": [],
   "source": [
    "actor_lst = []\n",
    "\n",
    "for a in film_df.actor1:\n",
    "    if not a == np.nan:\n",
    "        actor_lst.append(a)\n",
    "        \n",
    "for a in film_df.actor2:\n",
    "    if not a == np.nan:\n",
    "        actor_lst.append(a)\n",
    "\n",
    "for a in film_df.actor3:\n",
    "    if not a == np.nan:\n",
    "        actor_lst.append(a)\n",
    "        \n",
    "for a in film_df.actor4:\n",
    "    if not a == np.nan:\n",
    "        actor_lst.append(a)\n",
    "\n",
    "for a in film_df.actor5:\n",
    "    if not a == np.nan:\n",
    "        actor_lst.append(a)\n",
    "        \n",
    "for a in film_df.actor6:\n",
    "    if not a == np.nan:\n",
    "        actor_lst.append(a)\n",
    "\n",
    "for a in film_df.actor7:\n",
    "    if not a == np.nan:\n",
    "        actor_lst.append(a)\n",
    "        \n",
    "for a in film_df.actor8:\n",
    "    if not a == np.nan:\n",
    "        actor_lst.append(a)\n",
    "        \n",
    "for a in film_df.actor9:\n",
    "    if not a == np.nan:\n",
    "        actor_lst.append(a)\n",
    "        \n",
    "for a in film_df.actor10:\n",
    "    if not a == np.nan:\n",
    "        actor_lst.append(a)\n",
    "\n",
    "#actor_df['actor'] = film_df['actor1'].map( lambda x : x if not x==np.nan else continue)"
   ]
  },
  {
   "cell_type": "code",
   "execution_count": 19,
   "metadata": {},
   "outputs": [],
   "source": [
    "u_actor_lst = np.unique(np.array(actor_lst))"
   ]
  },
  {
   "cell_type": "code",
   "execution_count": 20,
   "metadata": {},
   "outputs": [
    {
     "name": "stdout",
     "output_type": "stream",
     "text": [
      "36968 59950\n"
     ]
    }
   ],
   "source": [
    "print(len(u_actor_lst), len(actor_lst))"
   ]
  },
  {
   "cell_type": "code",
   "execution_count": 24,
   "metadata": {},
   "outputs": [],
   "source": [
    "uact_df = pd.DataFrame(u_actor_lst, columns=['actor'])"
   ]
  },
  {
   "cell_type": "code",
   "execution_count": 26,
   "metadata": {},
   "outputs": [],
   "source": [
    "uact_df.head()\n",
    "#uact_df.to_csv('data/actor_list_2019.csv')"
   ]
  },
  {
   "cell_type": "code",
   "execution_count": null,
   "metadata": {},
   "outputs": [],
   "source": []
  },
  {
   "cell_type": "code",
   "execution_count": null,
   "metadata": {},
   "outputs": [],
   "source": []
  },
  {
   "cell_type": "code",
   "execution_count": 9,
   "metadata": {},
   "outputs": [],
   "source": [
    "def fetch_actor_data(name_code):\n",
    "    #scrape IMDB\n",
    "    url = 'https://imdb.com/'+name_code\n",
    "    resp = requests.request(\"GET\", url) \n",
    "    soup = BeautifulSoup(resp.text, \"html.parser\")\n",
    "    div = soup.find(\"td\", {\"class\": \"name-overview-widget__section\"})\n",
    "    act = div.find(\"span\",{\"class\":\"itemprop\"})\n",
    "    return act.text"
   ]
  },
  {
   "cell_type": "code",
   "execution_count": 10,
   "metadata": {},
   "outputs": [
    {
     "name": "stdout",
     "output_type": "stream",
     "text": [
      "Woody Allen\n"
     ]
    }
   ],
   "source": [
    "print(fetch_actor_data('name/nm0000095/'))"
   ]
  },
  {
   "cell_type": "code",
   "execution_count": 6,
   "metadata": {},
   "outputs": [],
   "source": [
    "url = 'https://imdb.com/name/nm0000095'\n",
    "resp = requests.request(\"GET\", url) \n",
    "soup = BeautifulSoup(resp.text, \"html.parser\")"
   ]
  },
  {
   "cell_type": "code",
   "execution_count": 27,
   "metadata": {},
   "outputs": [],
   "source": [
    "div = soup.find(\"td\", {\"class\": \"name-overview-widget__section\"})\n",
    "#print(div)"
   ]
  },
  {
   "cell_type": "code",
   "execution_count": 28,
   "metadata": {},
   "outputs": [],
   "source": [
    "blank_df = pd.DataFrame(columns=['actor', 'name'])"
   ]
  },
  {
   "cell_type": "code",
   "execution_count": 29,
   "metadata": {},
   "outputs": [],
   "source": [
    "#blank_df.to_csv('data/2019_actors_out.csv')"
   ]
  },
  {
   "cell_type": "code",
   "execution_count": null,
   "metadata": {},
   "outputs": [],
   "source": []
  }
 ],
 "metadata": {
  "kernelspec": {
   "display_name": "Python 3",
   "language": "python",
   "name": "python3"
  },
  "language_info": {
   "codemirror_mode": {
    "name": "ipython",
    "version": 3
   },
   "file_extension": ".py",
   "mimetype": "text/x-python",
   "name": "python",
   "nbconvert_exporter": "python",
   "pygments_lexer": "ipython3",
   "version": "3.6.5"
  }
 },
 "nbformat": 4,
 "nbformat_minor": 4
}
